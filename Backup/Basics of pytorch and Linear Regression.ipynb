{
 "cells": [
  {
   "cell_type": "code",
   "execution_count": 1,
   "id": "3351b53e-8efb-43b1-9da0-232275441fc1",
   "metadata": {},
   "outputs": [],
   "source": [
    "import torch"
   ]
  },
  {
   "cell_type": "code",
   "execution_count": 2,
   "id": "522bed10-8851-4834-aab7-736426a52e00",
   "metadata": {},
   "outputs": [
    {
     "data": {
      "text/plain": [
       "tensor(4.)"
      ]
     },
     "execution_count": 2,
     "metadata": {},
     "output_type": "execute_result"
    }
   ],
   "source": [
    "t1=torch.tensor(4.)\n",
    "t1"
   ]
  },
  {
   "cell_type": "code",
   "execution_count": 3,
   "id": "242e9ef9-ad7b-4e5d-bdd6-0b2e7c68575c",
   "metadata": {},
   "outputs": [
    {
     "data": {
      "text/plain": [
       "torch.float32"
      ]
     },
     "execution_count": 3,
     "metadata": {},
     "output_type": "execute_result"
    }
   ],
   "source": [
    "t1.dtype"
   ]
  },
  {
   "cell_type": "code",
   "execution_count": 4,
   "id": "dba4ec5b-bd25-4f2f-aaa4-236e3d7ab40d",
   "metadata": {},
   "outputs": [
    {
     "data": {
      "text/plain": [
       "tensor([1., 2., 3., 4.])"
      ]
     },
     "execution_count": 4,
     "metadata": {},
     "output_type": "execute_result"
    }
   ],
   "source": [
    "t2=torch.tensor([1.,2,3,4])\n",
    "t2"
   ]
  },
  {
   "cell_type": "code",
   "execution_count": 5,
   "id": "ffd55d70-87f1-4b00-b900-2bce767a30cb",
   "metadata": {},
   "outputs": [
    {
     "data": {
      "text/plain": [
       "torch.float32"
      ]
     },
     "execution_count": 5,
     "metadata": {},
     "output_type": "execute_result"
    }
   ],
   "source": [
    "t2.dtype"
   ]
  },
  {
   "cell_type": "code",
   "execution_count": 6,
   "id": "a500637c-df60-4d89-b0e1-7cc505634079",
   "metadata": {},
   "outputs": [
    {
     "data": {
      "text/plain": [
       "tensor([[ 5.,  6.],\n",
       "        [ 7.,  8.],\n",
       "        [ 9., 10.]])"
      ]
     },
     "execution_count": 6,
     "metadata": {},
     "output_type": "execute_result"
    }
   ],
   "source": [
    "t3=torch.tensor([[5.,6],\n",
    "                 [7,8],\n",
    "                 [9,10]])\n",
    "t3"
   ]
  },
  {
   "cell_type": "code",
   "execution_count": 7,
   "id": "29e6ab09-dff6-4c9d-9202-81470e26fe31",
   "metadata": {},
   "outputs": [],
   "source": [
    "t6=torch.full((3,2),42)"
   ]
  },
  {
   "cell_type": "code",
   "execution_count": 8,
   "id": "5391b45a-e9ca-4add-b427-293fef130e1f",
   "metadata": {},
   "outputs": [
    {
     "data": {
      "text/plain": [
       "tensor([[ 5.,  6.],\n",
       "        [ 7.,  8.],\n",
       "        [ 9., 10.],\n",
       "        [42., 42.],\n",
       "        [42., 42.],\n",
       "        [42., 42.]])"
      ]
     },
     "execution_count": 8,
     "metadata": {},
     "output_type": "execute_result"
    }
   ],
   "source": [
    "t7 = torch.cat ((t3,t6))\n",
    "t7"
   ]
  },
  {
   "cell_type": "code",
   "execution_count": 9,
   "id": "1523b842-2206-469e-b56b-fed3f3d61867",
   "metadata": {},
   "outputs": [
    {
     "data": {
      "text/plain": [
       "tensor([[-0.9589, -0.2794],\n",
       "        [ 0.6570,  0.9894],\n",
       "        [ 0.4121, -0.5440],\n",
       "        [-0.9165, -0.9165],\n",
       "        [-0.9165, -0.9165],\n",
       "        [-0.9165, -0.9165]])"
      ]
     },
     "execution_count": 9,
     "metadata": {},
     "output_type": "execute_result"
    }
   ],
   "source": [
    "t8= torch.sin(t7)\n",
    "t8"
   ]
  },
  {
   "cell_type": "code",
   "execution_count": 10,
   "id": "c140160a-0d3e-4b75-8cbb-e10cbbd42744",
   "metadata": {},
   "outputs": [
    {
     "data": {
      "text/plain": [
       "tensor([[[-0.9589, -0.2794],\n",
       "         [ 0.6570,  0.9894]],\n",
       "\n",
       "        [[ 0.4121, -0.5440],\n",
       "         [-0.9165, -0.9165]],\n",
       "\n",
       "        [[-0.9165, -0.9165],\n",
       "         [-0.9165, -0.9165]]])"
      ]
     },
     "execution_count": 10,
     "metadata": {},
     "output_type": "execute_result"
    }
   ],
   "source": [
    "t9=t8.reshape(3,2,2)\n",
    "t9"
   ]
  },
  {
   "cell_type": "markdown",
   "id": "a5930e0e-e855-40df-844b-826ed4e6ff97",
   "metadata": {},
   "source": [
    "## Linear Regression"
   ]
  },
  {
   "cell_type": "code",
   "execution_count": 19,
   "id": "32016a0d-b8ed-4887-b8fa-688fbb112914",
   "metadata": {},
   "outputs": [],
   "source": [
    "import numpy as np\n",
    "import torch"
   ]
  },
  {
   "cell_type": "markdown",
   "id": "61f089f0-1069-4f16-9a46-d9453e59462c",
   "metadata": {},
   "source": [
    "### Training data"
   ]
  },
  {
   "cell_type": "code",
   "execution_count": 20,
   "id": "939b8291-ed95-4ebb-a1d9-2e4a29e0f4ff",
   "metadata": {},
   "outputs": [],
   "source": [
    "# Inputs (temp , rainfall, humudity)\n",
    "inputs= np.array([[73,67,43],\n",
    "                 [91,88,64],\n",
    "                 [87,134,58],\n",
    "                 [102,43,37],\n",
    "                 [69,96,70]] , dtype='float32')\n",
    "                 "
   ]
  },
  {
   "cell_type": "code",
   "execution_count": 21,
   "id": "90a79032-2b00-4e7d-b1ad-ee26c5771fe3",
   "metadata": {},
   "outputs": [],
   "source": [
    "# Targets (apples, oranges)\n",
    "targets = np.array([[56,70],\n",
    "                    [81,10],\n",
    "                    [119,133],\n",
    "                    [22,37],\n",
    "                    [103,119]], dtype='float32')"
   ]
  },
  {
   "cell_type": "markdown",
   "id": "6609e6a1-af15-45c4-9568-9d0dcedac1c5",
   "metadata": {},
   "source": [
    "### Convert these arrays into torch tensors"
   ]
  },
  {
   "cell_type": "code",
   "execution_count": 22,
   "id": "fad31d2e-4de5-4c4e-9aa6-d8401af05cba",
   "metadata": {},
   "outputs": [],
   "source": [
    "inputs=torch.from_numpy(inputs)\n",
    "targets= torch.from_numpy(targets)"
   ]
  },
  {
   "cell_type": "markdown",
   "id": "bab530e5-50b8-4a08-97e7-bb1cc8de0d86",
   "metadata": {},
   "source": [
    "#### Linear resression model from scratch"
   ]
  },
  {
   "cell_type": "code",
   "execution_count": 23,
   "id": "c6f55f0d-cdae-46e0-84fc-d4160a72bde8",
   "metadata": {},
   "outputs": [
    {
     "name": "stdout",
     "output_type": "stream",
     "text": [
      "tensor([[-0.7681, -0.2292, -1.3162],\n",
      "        [-1.1405, -0.8850,  0.2348]], requires_grad=True)\n",
      "tensor([-1.0110,  0.7186], requires_grad=True)\n"
     ]
    }
   ],
   "source": [
    "w= torch.randn(2,3 , requires_grad= True)\n",
    "b= torch.randn(2, requires_grad= True)\n",
    "print(w)\n",
    "print(b)"
   ]
  },
  {
   "cell_type": "code",
   "execution_count": 25,
   "id": "4cc1533f-c758-409c-977b-5a426e6e30ff",
   "metadata": {},
   "outputs": [
    {
     "data": {
      "text/plain": [
       "tensor([[-129.0394, -131.7388],\n",
       "        [-175.3196, -165.9228],\n",
       "        [-174.8940, -203.4771],\n",
       "        [-137.9172, -144.9842],\n",
       "        [-168.1512, -146.5020]], grad_fn=<AddBackward0>)"
      ]
     },
     "execution_count": 25,
     "metadata": {},
     "output_type": "execute_result"
    }
   ],
   "source": [
    "inputs @ w.t() + b"
   ]
  },
  {
   "cell_type": "code",
   "execution_count": 26,
   "id": "bd66a758-6ac6-4769-824e-d6c76f0b6db5",
   "metadata": {},
   "outputs": [],
   "source": [
    "def model(x):\n",
    "    return x @ w.t()+b"
   ]
  },
  {
   "cell_type": "code",
   "execution_count": 27,
   "id": "8e15e418-5d11-4534-bc49-03f68f1e55d0",
   "metadata": {},
   "outputs": [
    {
     "name": "stdout",
     "output_type": "stream",
     "text": [
      "tensor([[-129.0394, -131.7388],\n",
      "        [-175.3196, -165.9228],\n",
      "        [-174.8940, -203.4771],\n",
      "        [-137.9172, -144.9842],\n",
      "        [-168.1512, -146.5020]], grad_fn=<AddBackward0>)\n"
     ]
    }
   ],
   "source": [
    "preds= model(inputs)\n",
    "print(preds)"
   ]
  },
  {
   "cell_type": "code",
   "execution_count": 28,
   "id": "30421d55-75e3-44f7-a96f-7752020038ae",
   "metadata": {},
   "outputs": [
    {
     "name": "stdout",
     "output_type": "stream",
     "text": [
      "tensor([[ 56.,  70.],\n",
      "        [ 81.,  10.],\n",
      "        [119., 133.],\n",
      "        [ 22.,  37.],\n",
      "        [103., 119.]])\n"
     ]
    }
   ],
   "source": [
    "print(targets)"
   ]
  },
  {
   "cell_type": "markdown",
   "id": "ca6e9db8-4da1-4050-9869-d4d70a05582b",
   "metadata": {},
   "source": [
    "### Loss Function"
   ]
  },
  {
   "cell_type": "code",
   "execution_count": 32,
   "id": "1455a79e-375c-44e6-bff6-2c85873a8d16",
   "metadata": {},
   "outputs": [],
   "source": [
    "#MSE\n",
    "def mse(t1,t2):\n",
    "    diff= t1-t2\n",
    "    return torch.sum(diff * diff)/diff.numel()"
   ]
  },
  {
   "cell_type": "code",
   "execution_count": 34,
   "id": "920a0a5c-76af-4ff6-8d76-edf882c2d14a",
   "metadata": {},
   "outputs": [
    {
     "name": "stdout",
     "output_type": "stream",
     "text": [
      "tensor(57388.3242, grad_fn=<DivBackward0>)\n"
     ]
    }
   ],
   "source": [
    "loss= mse(preds,targets)\n",
    "print(loss)"
   ]
  },
  {
   "cell_type": "markdown",
   "id": "bb3f4e87-0950-41cb-a51e-7f4ae7639662",
   "metadata": {},
   "source": [
    "### Compute Gradients"
   ]
  },
  {
   "cell_type": "code",
   "execution_count": 35,
   "id": "b334effd-489f-4c1f-b3ac-3946451a16d2",
   "metadata": {},
   "outputs": [],
   "source": [
    "loss.backward()"
   ]
  },
  {
   "cell_type": "code",
   "execution_count": 37,
   "id": "c82bc432-b468-443b-9096-e412f41d6ab7",
   "metadata": {},
   "outputs": [
    {
     "name": "stdout",
     "output_type": "stream",
     "text": [
      "tensor([[-0.7681, -0.2292, -1.3162],\n",
      "        [-1.1405, -0.8850,  0.2348]], requires_grad=True)\n",
      "tensor([[-19484.5469, -21448.5059, -13260.9062],\n",
      "        [-19378.2871, -21479.8281, -12953.6104]])\n"
     ]
    }
   ],
   "source": [
    "print(w)\n",
    "print(w.grad)"
   ]
  },
  {
   "cell_type": "code",
   "execution_count": 38,
   "id": "b9aace70-36b5-488e-898d-694dc01bad80",
   "metadata": {},
   "outputs": [
    {
     "name": "stdout",
     "output_type": "stream",
     "text": [
      "tensor([-1.0110,  0.7186], requires_grad=True)\n",
      "tensor([-233.2643, -232.3250])\n"
     ]
    }
   ],
   "source": [
    "print(b)\n",
    "print(b.grad)"
   ]
  },
  {
   "cell_type": "code",
   "execution_count": 40,
   "id": "012cae0c-7356-4e82-a946-1565d7b2cb59",
   "metadata": {},
   "outputs": [],
   "source": [
    "with torch.no_grad():\n",
    "    w -= w.grad * 1e-5\n",
    "    b -= b.grad * 1e-5"
   ]
  },
  {
   "cell_type": "code",
   "execution_count": 41,
   "id": "ef3dd34a-1c5e-48bd-958a-fdac210da9a1",
   "metadata": {},
   "outputs": [
    {
     "name": "stdout",
     "output_type": "stream",
     "text": [
      "tensor([[-0.5733, -0.0147, -1.1836],\n",
      "        [-0.9468, -0.6702,  0.3643]], requires_grad=True)\n",
      "tensor([[-19484.5469, -21448.5059, -13260.9062],\n",
      "        [-19378.2871, -21479.8281, -12953.6104]])\n"
     ]
    }
   ],
   "source": [
    "print(w)\n",
    "print(w.grad)"
   ]
  },
  {
   "cell_type": "code",
   "execution_count": 42,
   "id": "50f76f71-aca7-498c-a104-e79eba8c47fe",
   "metadata": {},
   "outputs": [
    {
     "data": {
      "text/plain": [
       "(tensor([[-0.5733, -0.0147, -1.1836],\n",
       "         [-0.9468, -0.6702,  0.3643]], requires_grad=True),\n",
       " tensor([-1.0086,  0.7209], requires_grad=True))"
      ]
     },
     "execution_count": 42,
     "metadata": {},
     "output_type": "execute_result"
    }
   ],
   "source": [
    "w , b"
   ]
  },
  {
   "cell_type": "code",
   "execution_count": 44,
   "id": "5706355d-04ae-453f-8215-c0cf5cb0d1f6",
   "metadata": {},
   "outputs": [
    {
     "name": "stdout",
     "output_type": "stream",
     "text": [
      "tensor(38993.7422, grad_fn=<DivBackward0>)\n"
     ]
    }
   ],
   "source": [
    "preds=model(inputs)\n",
    "loss=mse(preds,targets)\n",
    "print(loss)"
   ]
  },
  {
   "cell_type": "code",
   "execution_count": 45,
   "id": "c80c57ba-67ff-425f-b685-386a00f8ed3f",
   "metadata": {},
   "outputs": [
    {
     "name": "stdout",
     "output_type": "stream",
     "text": [
      "tensor([[0., 0., 0.],\n",
      "        [0., 0., 0.]])\n",
      "tensor([0., 0.])\n"
     ]
    }
   ],
   "source": [
    "w.grad.zero_()\n",
    "b.grad.zero_()\n",
    "print(w.grad)\n",
    "print(b.grad)"
   ]
  },
  {
   "cell_type": "markdown",
   "id": "03adaa1b-f505-4e6e-a856-2baefde7de5f",
   "metadata": {},
   "source": [
    "### Train the model using gradient descent"
   ]
  },
  {
   "cell_type": "markdown",
   "id": "ba709812-0c62-4dd7-9493-e3713f2b8592",
   "metadata": {},
   "source": [
    "Implement the above step by step"
   ]
  },
  {
   "cell_type": "code",
   "execution_count": 52,
   "id": "503e82a5-5bdb-495e-ad15-2c6522b558c2",
   "metadata": {},
   "outputs": [
    {
     "name": "stdout",
     "output_type": "stream",
     "text": [
      "tensor([[ -66.5898,  -69.6335],\n",
      "        [ -93.2083,  -84.2996],\n",
      "        [ -77.6693, -106.6585],\n",
      "        [ -76.0254,  -83.4764],\n",
      "        [ -89.2565,  -68.0823]], grad_fn=<AddBackward0>)\n"
     ]
    }
   ],
   "source": [
    "# Generate predictions\n",
    "preds = model(inputs)\n",
    "print(preds)"
   ]
  },
  {
   "cell_type": "code",
   "execution_count": 53,
   "id": "d1f12310-1a59-4cc1-99b4-a2a14ad98ea8",
   "metadata": {},
   "outputs": [
    {
     "name": "stdout",
     "output_type": "stream",
     "text": [
      "tensor(26596.7559, grad_fn=<DivBackward0>)\n"
     ]
    }
   ],
   "source": [
    "# Calculate the loss\n",
    "loss = mse(preds, targets)\n",
    "print(loss)"
   ]
  },
  {
   "cell_type": "code",
   "execution_count": 48,
   "id": "14346801-2154-4aa0-9003-fdd29389daf1",
   "metadata": {},
   "outputs": [
    {
     "name": "stdout",
     "output_type": "stream",
     "text": [
      "tensor([[-15942.6016, -17640.2891, -10911.3184],\n",
      "        [-15855.7373, -17691.7031, -10616.8633]])\n",
      "tensor([-191.2432, -190.5339])\n"
     ]
    }
   ],
   "source": [
    "# Compute gradients\n",
    "loss.backward()\n",
    "print(w.grad)\n",
    "print(b.grad)"
   ]
  },
  {
   "cell_type": "markdown",
   "id": "5c0d4910-dac4-41a7-9d41-0af0ef9f7242",
   "metadata": {},
   "source": [
    "Update the weights and biases using gradients computed above"
   ]
  },
  {
   "cell_type": "code",
   "execution_count": 49,
   "id": "218fba30-b470-460f-b33c-1900d0ff98b6",
   "metadata": {},
   "outputs": [],
   "source": [
    "with torch.no_grad():\n",
    "    w -= w.grad * 1e-5\n",
    "    b -= b.grad * 1e-5\n",
    "    w.grad.zero_()\n",
    "    b.grad.zero_()"
   ]
  },
  {
   "cell_type": "code",
   "execution_count": 51,
   "id": "a97dfd5d-68e5-43f2-9070-ae77671a5766",
   "metadata": {},
   "outputs": [
    {
     "name": "stdout",
     "output_type": "stream",
     "text": [
      "tensor([[-0.4139,  0.1617, -1.0745],\n",
      "        [-0.7882, -0.4932,  0.4705]], requires_grad=True)\n",
      "tensor([-1.0067,  0.7228], requires_grad=True)\n"
     ]
    }
   ],
   "source": [
    "print(w)\n",
    "print(b)"
   ]
  },
  {
   "cell_type": "markdown",
   "id": "25a03f4a-0916-4392-a3bd-e3f70519532e",
   "metadata": {},
   "source": [
    "### Train for multiple epochs"
   ]
  },
  {
   "cell_type": "code",
   "execution_count": 130,
   "id": "f83cc761-1fc2-4461-933a-9fffaf7c6142",
   "metadata": {},
   "outputs": [],
   "source": [
    "# train for 100 epochs\n",
    "for i  in range(10000):\n",
    "    preds = model(inputs)\n",
    "    loss = mse(preds,targets)\n",
    "    loss.backward()\n",
    "    with torch.no_grad():\n",
    "        w -= w.grad * 1e-5\n",
    "        b -= b.grad * 1e-5\n",
    "        w.grad.zero_()\n",
    "        b.grad.zero_()\n"
   ]
  },
  {
   "cell_type": "code",
   "execution_count": 131,
   "id": "2aa67820-032a-4ffe-a42c-1271ff0b96d5",
   "metadata": {},
   "outputs": [
    {
     "name": "stdout",
     "output_type": "stream",
     "text": [
      "tensor(541.9397, grad_fn=<DivBackward0>)\n"
     ]
    }
   ],
   "source": [
    "preds = model(inputs)\n",
    "loss = mse(preds, targets)\n",
    "print(loss)"
   ]
  },
  {
   "cell_type": "code",
   "execution_count": 132,
   "id": "f892585f-4f37-422e-876e-16a4e616a782",
   "metadata": {},
   "outputs": [
    {
     "data": {
      "text/plain": [
       "tensor([[ 56.9979,  54.7824],\n",
       "        [ 82.3117,  69.9921],\n",
       "        [118.7203, 132.4053],\n",
       "        [ 21.1024,  18.8245],\n",
       "        [101.8937,  83.5988]], grad_fn=<AddBackward0>)"
      ]
     },
     "execution_count": 132,
     "metadata": {},
     "output_type": "execute_result"
    }
   ],
   "source": [
    "preds"
   ]
  },
  {
   "cell_type": "code",
   "execution_count": 133,
   "id": "b88ad76c-86e2-4b1b-b8ea-c6ca2535a269",
   "metadata": {},
   "outputs": [
    {
     "data": {
      "text/plain": [
       "tensor([[ 56.,  70.],\n",
       "        [ 81.,  10.],\n",
       "        [119., 133.],\n",
       "        [ 22.,  37.],\n",
       "        [103., 119.]])"
      ]
     },
     "execution_count": 133,
     "metadata": {},
     "output_type": "execute_result"
    }
   ],
   "source": [
    "targets"
   ]
  },
  {
   "cell_type": "markdown",
   "id": "51ad2a79-d786-441f-b5f9-daa563331a98",
   "metadata": {},
   "source": [
    "### Linear Regression using Pytorch Inbuilts"
   ]
  },
  {
   "cell_type": "code",
   "execution_count": 134,
   "id": "6afc7934-9267-4682-a01b-2e7dda3f6a51",
   "metadata": {},
   "outputs": [],
   "source": [
    "import torch.nn as nn"
   ]
  },
  {
   "cell_type": "code",
   "execution_count": 135,
   "id": "ea6273f4-fa17-4ec7-b1ba-c0f76983d962",
   "metadata": {},
   "outputs": [],
   "source": [
    "# Input (temp, rainfall, humidity)\n",
    "inputs = np.array([[73, 67, 43], \n",
    "                   [91, 88, 64], \n",
    "                   [87, 134, 58], \n",
    "                   [102, 43, 37], \n",
    "                   [69, 96, 70], \n",
    "                   [74, 66, 43], \n",
    "                   [91, 87, 65], \n",
    "                   [88, 134, 59], \n",
    "                   [101, 44, 37], \n",
    "                   [68, 96, 71], \n",
    "                   [73, 66, 44], \n",
    "                   [92, 87, 64], \n",
    "                   [87, 135, 57], \n",
    "                   [103, 43, 36], \n",
    "                   [68, 97, 70]], \n",
    "                  dtype='float32')\n",
    "\n",
    "# Targets (apples, oranges)\n",
    "targets = np.array([[56, 70], \n",
    "                    [81, 101], \n",
    "                    [119, 133], \n",
    "                    [22, 37], \n",
    "                    [103, 119],\n",
    "                    [57, 69], \n",
    "                    [80, 102], \n",
    "                    [118, 132], \n",
    "                    [21, 38], \n",
    "                    [104, 118], \n",
    "                    [57, 69], \n",
    "                    [82, 100], \n",
    "                    [118, 134], \n",
    "                    [20, 38], \n",
    "                    [102, 120]], \n",
    "                   dtype='float32')\n",
    "\n",
    "inputs = torch.from_numpy(inputs)\n",
    "targets = torch.from_numpy(targets)"
   ]
  },
  {
   "cell_type": "code",
   "execution_count": 136,
   "id": "fb44308f-92ee-412f-a710-ec0f95f8f790",
   "metadata": {},
   "outputs": [
    {
     "data": {
      "text/plain": [
       "tensor([[ 73.,  67.,  43.],\n",
       "        [ 91.,  88.,  64.],\n",
       "        [ 87., 134.,  58.],\n",
       "        [102.,  43.,  37.],\n",
       "        [ 69.,  96.,  70.],\n",
       "        [ 74.,  66.,  43.],\n",
       "        [ 91.,  87.,  65.],\n",
       "        [ 88., 134.,  59.],\n",
       "        [101.,  44.,  37.],\n",
       "        [ 68.,  96.,  71.],\n",
       "        [ 73.,  66.,  44.],\n",
       "        [ 92.,  87.,  64.],\n",
       "        [ 87., 135.,  57.],\n",
       "        [103.,  43.,  36.],\n",
       "        [ 68.,  97.,  70.]])"
      ]
     },
     "execution_count": 136,
     "metadata": {},
     "output_type": "execute_result"
    }
   ],
   "source": [
    "inputs"
   ]
  },
  {
   "cell_type": "code",
   "execution_count": 137,
   "id": "b46e02f5-3e02-48e4-86cf-a24af3ddcbb2",
   "metadata": {},
   "outputs": [
    {
     "data": {
      "text/plain": [
       "tensor([[ 56.,  70.],\n",
       "        [ 81., 101.],\n",
       "        [119., 133.],\n",
       "        [ 22.,  37.],\n",
       "        [103., 119.],\n",
       "        [ 57.,  69.],\n",
       "        [ 80., 102.],\n",
       "        [118., 132.],\n",
       "        [ 21.,  38.],\n",
       "        [104., 118.],\n",
       "        [ 57.,  69.],\n",
       "        [ 82., 100.],\n",
       "        [118., 134.],\n",
       "        [ 20.,  38.],\n",
       "        [102., 120.]])"
      ]
     },
     "execution_count": 137,
     "metadata": {},
     "output_type": "execute_result"
    }
   ],
   "source": [
    "targets"
   ]
  },
  {
   "cell_type": "markdown",
   "id": "7e146130-2b6c-4b46-b998-bb21db3cc145",
   "metadata": {},
   "source": [
    "### Dataset and DataLoaders"
   ]
  },
  {
   "cell_type": "code",
   "execution_count": 138,
   "id": "d800e843-eb04-41a7-a883-13ca9f85d4f1",
   "metadata": {},
   "outputs": [],
   "source": [
    "from torch.utils.data import TensorDataset"
   ]
  },
  {
   "cell_type": "code",
   "execution_count": 139,
   "id": "7e4914d9-a1dc-4f00-b58f-c435e9d3d4f3",
   "metadata": {},
   "outputs": [
    {
     "data": {
      "text/plain": [
       "(tensor([[ 73.,  67.,  43.],\n",
       "         [ 91.,  88.,  64.],\n",
       "         [ 87., 134.,  58.]]),\n",
       " tensor([[ 56.,  70.],\n",
       "         [ 81., 101.],\n",
       "         [119., 133.]]))"
      ]
     },
     "execution_count": 139,
     "metadata": {},
     "output_type": "execute_result"
    }
   ],
   "source": [
    "# Define dataset\n",
    "train_ds =  TensorDataset(inputs, targets)\n",
    "train_ds[0:3]"
   ]
  },
  {
   "cell_type": "code",
   "execution_count": 140,
   "id": "53273c69-c01d-4292-8bfe-a51eb4acf404",
   "metadata": {},
   "outputs": [],
   "source": [
    "from torch.utils.data import DataLoader"
   ]
  },
  {
   "cell_type": "code",
   "execution_count": 141,
   "id": "6607ba0f-df04-4ce7-9ebd-8fe8c349dbbd",
   "metadata": {},
   "outputs": [],
   "source": [
    "# Define data loader\n",
    "batch_size =5\n",
    "train_dl = DataLoader(train_ds, batch_size, shuffle=True)"
   ]
  },
  {
   "cell_type": "code",
   "execution_count": 143,
   "id": "e87360c8-51cc-4078-b7f9-081fb46ed275",
   "metadata": {},
   "outputs": [
    {
     "data": {
      "text/plain": [
       "tensor([[ 73.,  67.,  43.],\n",
       "        [ 91.,  88.,  64.],\n",
       "        [ 87., 134.,  58.],\n",
       "        [102.,  43.,  37.],\n",
       "        [ 69.,  96.,  70.],\n",
       "        [ 74.,  66.,  43.],\n",
       "        [ 91.,  87.,  65.],\n",
       "        [ 88., 134.,  59.],\n",
       "        [101.,  44.,  37.],\n",
       "        [ 68.,  96.,  71.],\n",
       "        [ 73.,  66.,  44.],\n",
       "        [ 92.,  87.,  64.],\n",
       "        [ 87., 135.,  57.],\n",
       "        [103.,  43.,  36.],\n",
       "        [ 68.,  97.,  70.]])"
      ]
     },
     "execution_count": 143,
     "metadata": {},
     "output_type": "execute_result"
    }
   ],
   "source": [
    "inputs"
   ]
  },
  {
   "cell_type": "code",
   "execution_count": 142,
   "id": "9b58f97d-1c22-4d17-ac6e-87370c56b8b6",
   "metadata": {},
   "outputs": [
    {
     "name": "stdout",
     "output_type": "stream",
     "text": [
      "tensor([[ 91.,  87.,  65.],\n",
      "        [ 68.,  97.,  70.],\n",
      "        [103.,  43.,  36.],\n",
      "        [101.,  44.,  37.],\n",
      "        [ 68.,  96.,  71.]])\n",
      "tensor([[ 80., 102.],\n",
      "        [102., 120.],\n",
      "        [ 20.,  38.],\n",
      "        [ 21.,  38.],\n",
      "        [104., 118.]])\n"
     ]
    }
   ],
   "source": [
    "for xb,yb in train_dl:\n",
    "    print(xb)\n",
    "    print(yb)\n",
    "    break"
   ]
  },
  {
   "cell_type": "markdown",
   "id": "6e6b8079-4565-4139-842c-847a3e35f77b",
   "metadata": {},
   "source": [
    "### nn.Linear"
   ]
  },
  {
   "cell_type": "code",
   "execution_count": 144,
   "id": "d51bf218-6621-46a0-94ee-14e047c12dab",
   "metadata": {},
   "outputs": [
    {
     "name": "stdout",
     "output_type": "stream",
     "text": [
      "Parameter containing:\n",
      "tensor([[-0.0538, -0.2831,  0.2875],\n",
      "        [ 0.0245,  0.5101,  0.3232]], requires_grad=True)\n",
      "Parameter containing:\n",
      "tensor([0.1814, 0.2524], requires_grad=True)\n"
     ]
    }
   ],
   "source": [
    "# Define model\n",
    "model = nn.Linear(3,2)\n",
    "print(model.weight)\n",
    "print(model.bias)"
   ]
  },
  {
   "cell_type": "code",
   "execution_count": 145,
   "id": "33224df5-6605-4ad9-aafb-f67cfc724f97",
   "metadata": {},
   "outputs": [
    {
     "data": {
      "text/plain": [
       "[Parameter containing:\n",
       " tensor([[-0.0538, -0.2831,  0.2875],\n",
       "         [ 0.0245,  0.5101,  0.3232]], requires_grad=True),\n",
       " Parameter containing:\n",
       " tensor([0.1814, 0.2524], requires_grad=True)]"
      ]
     },
     "execution_count": 145,
     "metadata": {},
     "output_type": "execute_result"
    }
   ],
   "source": [
    "# Parameters\n",
    "list(model.parameters())"
   ]
  },
  {
   "cell_type": "code",
   "execution_count": 146,
   "id": "971b7dd1-f863-4aea-bae8-9ee32ce2cd9c",
   "metadata": {},
   "outputs": [
    {
     "data": {
      "text/plain": [
       "tensor([[-10.3524,  50.1141],\n",
       "        [-11.2289,  68.0535],\n",
       "        [-25.7589,  89.4798],\n",
       "        [ -6.8450,  36.6448],\n",
       "        [-10.5843,  73.5333],\n",
       "        [-10.1232,  49.6285],\n",
       "        [-10.6584,  67.8666],\n",
       "        [-25.5253,  89.8275],\n",
       "        [ -7.0742,  37.1304],\n",
       "        [-10.2430,  73.8319],\n",
       "        [ -9.7819,  49.9271],\n",
       "        [-10.9997,  67.5680],\n",
       "        [-26.3294,  89.6667],\n",
       "        [ -7.1863,  36.3462],\n",
       "        [-10.8135,  74.0188]], grad_fn=<AddmmBackward0>)"
      ]
     },
     "execution_count": 146,
     "metadata": {},
     "output_type": "execute_result"
    }
   ],
   "source": [
    "# Generate Predictions\n",
    "preds = model(inputs)\n",
    "preds"
   ]
  },
  {
   "cell_type": "code",
   "execution_count": 148,
   "id": "de391fa6-30c3-4631-b7b4-816cd57b40b7",
   "metadata": {},
   "outputs": [
    {
     "data": {
      "text/plain": [
       "tensor([[ 56.,  70.],\n",
       "        [ 81., 101.],\n",
       "        [119., 133.],\n",
       "        [ 22.,  37.],\n",
       "        [103., 119.],\n",
       "        [ 57.,  69.],\n",
       "        [ 80., 102.],\n",
       "        [118., 132.],\n",
       "        [ 21.,  38.],\n",
       "        [104., 118.],\n",
       "        [ 57.,  69.],\n",
       "        [ 82., 100.],\n",
       "        [118., 134.],\n",
       "        [ 20.,  38.],\n",
       "        [102., 120.]])"
      ]
     },
     "execution_count": 148,
     "metadata": {},
     "output_type": "execute_result"
    }
   ],
   "source": [
    "targets"
   ]
  },
  {
   "cell_type": "markdown",
   "id": "bf325be4-3ad9-49dd-8121-f1d63130fd3b",
   "metadata": {},
   "source": [
    "## Loss Function"
   ]
  },
  {
   "cell_type": "code",
   "execution_count": 149,
   "id": "33129e4a-7b44-46d5-beb5-e663be4c130e",
   "metadata": {},
   "outputs": [],
   "source": [
    "# Import nn.functional\n",
    "import torch.nn.functional as F"
   ]
  },
  {
   "cell_type": "code",
   "execution_count": 151,
   "id": "688a35bf-d7ab-4abe-b3d2-7e533c79d138",
   "metadata": {},
   "outputs": [],
   "source": [
    "loss_fn = F.mse_loss"
   ]
  },
  {
   "cell_type": "code",
   "execution_count": 152,
   "id": "20cbf2ae-a63e-45db-89d9-0d8c406d6782",
   "metadata": {},
   "outputs": [
    {
     "name": "stdout",
     "output_type": "stream",
     "text": [
      "tensor(5279.2505, grad_fn=<MseLossBackward0>)\n"
     ]
    }
   ],
   "source": [
    "loss = loss_fn(model(inputs), targets)\n",
    "print(loss)"
   ]
  },
  {
   "cell_type": "markdown",
   "id": "d7b66d6e-a52c-43a5-ab17-f9d0a1d61770",
   "metadata": {},
   "source": [
    "## Optimizer"
   ]
  },
  {
   "cell_type": "code",
   "execution_count": 153,
   "id": "de50e8f5-6df5-4a42-b8f7-9c09082d3bea",
   "metadata": {},
   "outputs": [],
   "source": [
    "# Define Optimizer\n",
    "opt = torch.optim.SGD(model.parameters(), lr=1e-5)"
   ]
  },
  {
   "cell_type": "markdown",
   "id": "fab1fcfb-e953-4ebc-a0f9-b6c52e812bc8",
   "metadata": {},
   "source": [
    "## Train the model"
   ]
  },
  {
   "cell_type": "code",
   "execution_count": 156,
   "id": "7c688180-884f-4335-b9fc-2939ce390a10",
   "metadata": {},
   "outputs": [],
   "source": [
    "# Utility function to train the model\n",
    "\n",
    "def fit(num_epochs,model, loss_fn, opt, train_dl):\n",
    "\n",
    "    # Repeat for given number of epochs\n",
    "    for epoch in range(num_epochs):\n",
    "        for xb,yb in train_dl:\n",
    "        # 1. generate predictions\n",
    "            pred = model(xb)\n",
    "        # 2. calculate loss\n",
    "            loss = loss_fn(pred,yb)\n",
    "        # 3. Compute Gradients\n",
    "            loss.backward()\n",
    "        # 4. upate parameters using gradients\n",
    "            opt.step()\n",
    "        # 5. Reset the gradients to zero\n",
    "            opt.zero_grad()\n",
    "        # print the progress\n",
    "        if (epoch+1)%10 == 0:\n",
    "            print(f\"Epoch {epoch+1}/{num_epochs} | Loss: {loss.item()}\")"
   ]
  },
  {
   "cell_type": "markdown",
   "id": "9d0d1def-98f5-4699-b564-68c1c80ea700",
   "metadata": {},
   "source": [
    "Train the model for 100 epochs"
   ]
  },
  {
   "cell_type": "code",
   "execution_count": 157,
   "id": "78483f44-0a1b-449c-abfe-d8d845bc089b",
   "metadata": {},
   "outputs": [
    {
     "name": "stdout",
     "output_type": "stream",
     "text": [
      "Epoch 10/100 | Loss: 51.253257751464844\n",
      "Epoch 20/100 | Loss: 61.489585876464844\n",
      "Epoch 30/100 | Loss: 35.4142951965332\n",
      "Epoch 40/100 | Loss: 24.996383666992188\n",
      "Epoch 50/100 | Loss: 12.8175630569458\n",
      "Epoch 60/100 | Loss: 18.968666076660156\n",
      "Epoch 70/100 | Loss: 13.720434188842773\n",
      "Epoch 80/100 | Loss: 13.267007827758789\n",
      "Epoch 90/100 | Loss: 11.526849746704102\n",
      "Epoch 100/100 | Loss: 9.603827476501465\n"
     ]
    }
   ],
   "source": [
    "fit(100, model, loss_fn,opt,train_dl)"
   ]
  },
  {
   "cell_type": "code",
   "execution_count": 158,
   "id": "217c8a20-4c00-4d0b-a936-e6a9c64cdb5a",
   "metadata": {},
   "outputs": [
    {
     "data": {
      "text/plain": [
       "tensor([[ 57.4053,  70.8783],\n",
       "        [ 83.2077,  98.8224],\n",
       "        [114.7197, 136.3083],\n",
       "        [ 23.4264,  39.8045],\n",
       "        [102.4239, 114.3409],\n",
       "        [ 56.2686,  69.7864],\n",
       "        [ 83.2504,  98.5773],\n",
       "        [115.1379, 136.7295],\n",
       "        [ 24.5631,  40.8964],\n",
       "        [103.6034, 115.1877],\n",
       "        [ 57.4480,  70.6331],\n",
       "        [ 82.0709,  97.7305],\n",
       "        [114.6770, 136.5535],\n",
       "        [ 22.2469,  38.9577],\n",
       "        [103.5607, 115.4328]], grad_fn=<AddmmBackward0>)"
      ]
     },
     "execution_count": 158,
     "metadata": {},
     "output_type": "execute_result"
    }
   ],
   "source": [
    "# Generate predictions\n",
    "preds = model(inputs)\n",
    "preds"
   ]
  },
  {
   "cell_type": "code",
   "execution_count": 159,
   "id": "88e3737c-d1e4-4d53-bc4a-0bb1604d383e",
   "metadata": {},
   "outputs": [
    {
     "data": {
      "text/plain": [
       "tensor([[ 56.,  70.],\n",
       "        [ 81., 101.],\n",
       "        [119., 133.],\n",
       "        [ 22.,  37.],\n",
       "        [103., 119.],\n",
       "        [ 57.,  69.],\n",
       "        [ 80., 102.],\n",
       "        [118., 132.],\n",
       "        [ 21.,  38.],\n",
       "        [104., 118.],\n",
       "        [ 57.,  69.],\n",
       "        [ 82., 100.],\n",
       "        [118., 134.],\n",
       "        [ 20.,  38.],\n",
       "        [102., 120.]])"
      ]
     },
     "execution_count": 159,
     "metadata": {},
     "output_type": "execute_result"
    }
   ],
   "source": [
    "# Compare with targets\n",
    "targets"
   ]
  },
  {
   "cell_type": "code",
   "execution_count": 160,
   "id": "d0d1ca4e-4bb7-47af-8742-7335eede0184",
   "metadata": {},
   "outputs": [
    {
     "data": {
      "text/plain": [
       "tensor([[54.4183, 67.5702]], grad_fn=<AddmmBackward0>)"
      ]
     },
     "execution_count": 160,
     "metadata": {},
     "output_type": "execute_result"
    }
   ],
   "source": [
    "model(torch.tensor([[75,63,44.]]))"
   ]
  },
  {
   "cell_type": "code",
   "execution_count": null,
   "id": "644478d3-8aec-4df3-97eb-1e77e335a8f4",
   "metadata": {},
   "outputs": [],
   "source": []
  }
 ],
 "metadata": {
  "kernelspec": {
   "display_name": "Python 3.11 (torch)",
   "language": "python",
   "name": "pytorch"
  },
  "language_info": {
   "codemirror_mode": {
    "name": "ipython",
    "version": 3
   },
   "file_extension": ".py",
   "mimetype": "text/x-python",
   "name": "python",
   "nbconvert_exporter": "python",
   "pygments_lexer": "ipython3",
   "version": "3.11.9"
  },
  "widgets": {
   "application/vnd.jupyter.widget-state+json": {
    "state": {},
    "version_major": 2,
    "version_minor": 0
   }
  }
 },
 "nbformat": 4,
 "nbformat_minor": 5
}
