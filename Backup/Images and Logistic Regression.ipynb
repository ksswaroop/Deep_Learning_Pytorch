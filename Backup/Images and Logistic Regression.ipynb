{
 "cells": [
  {
   "cell_type": "code",
   "execution_count": 1,
   "id": "fca0c574-f0b2-4e70-92c9-5b8aea86d6cf",
   "metadata": {
    "editable": true,
    "slideshow": {
     "slide_type": ""
    },
    "tags": []
   },
   "outputs": [],
   "source": [
    "# Imports\n",
    "import torch\n",
    "import torchvision\n",
    "from torchvision.datasets import MNIST"
   ]
  },
  {
   "cell_type": "code",
   "execution_count": 2,
   "id": "8a6882ed-81c1-4030-a240-46b78368b544",
   "metadata": {},
   "outputs": [],
   "source": [
    "# Download training dataset\n",
    "dataset = MNIST(root = 'data/',download = True)"
   ]
  },
  {
   "cell_type": "code",
   "execution_count": 3,
   "id": "a3ace1cd-49d7-4cdd-b648-d01d6333f1fc",
   "metadata": {},
   "outputs": [
    {
     "data": {
      "text/plain": [
       "60000"
      ]
     },
     "execution_count": 3,
     "metadata": {},
     "output_type": "execute_result"
    }
   ],
   "source": [
    "train_dataset=MNIST(root='data/' , train = True)\n",
    "len(train_dataset)"
   ]
  },
  {
   "cell_type": "code",
   "execution_count": 4,
   "id": "2aeeffca-19c6-4155-9571-970765f0e201",
   "metadata": {},
   "outputs": [
    {
     "data": {
      "text/plain": [
       "10000"
      ]
     },
     "execution_count": 4,
     "metadata": {},
     "output_type": "execute_result"
    }
   ],
   "source": [
    "test_dataset=MNIST(root='data/', train = False)\n",
    "len(test_dataset)"
   ]
  },
  {
   "cell_type": "code",
   "execution_count": 5,
   "id": "75181c17-4d1a-4bb3-989c-bd3ee92cd750",
   "metadata": {},
   "outputs": [
    {
     "data": {
      "text/plain": [
       "(<PIL.Image.Image image mode=L size=28x28>, 5)"
      ]
     },
     "execution_count": 5,
     "metadata": {},
     "output_type": "execute_result"
    }
   ],
   "source": [
    "train_dataset[0]"
   ]
  },
  {
   "cell_type": "code",
   "execution_count": 6,
   "id": "2a4e68c7-ebb6-4081-b074-8114e5cdbd90",
   "metadata": {},
   "outputs": [],
   "source": [
    "import matplotlib.pyplot as plt\n",
    "%matplotlib inline"
   ]
  },
  {
   "cell_type": "code",
   "execution_count": 7,
   "id": "d50bcd4d-7bbd-46dd-857e-d9a352251794",
   "metadata": {},
   "outputs": [
    {
     "name": "stdout",
     "output_type": "stream",
     "text": [
      "Label : 5\n"
     ]
    },
    {
     "data": {
      "image/png": "[encoded data removed]",
      "text/plain": [
       "<Figure size 640x480 with 1 Axes>"
      ]
     },
     "metadata": {},
     "output_type": "display_data"
    }
   ],
   "source": [
    "image,label =train_dataset[0]\n",
    "plt.imshow(image,cmap=\"gray\")\n",
    "print(\"Label :\",label)"
   ]
  },
  {
   "cell_type": "code",
   "execution_count": 8,
   "id": "3102d9d5-808d-463e-a066-7f124ed56738",
   "metadata": {},
   "outputs": [
    {
     "name": "stdout",
     "output_type": "stream",
     "text": [
      "Label : 3\n"
     ]
    },
    {
     "data": {
      "image/png": "[encoded data removed]",
      "text/plain": [
       "<Figure size 640x480 with 1 Axes>"
      ]
     },
     "metadata": {},
     "output_type": "display_data"
    }
   ],
   "source": [
    "image,label =train_dataset[10]\n",
    "plt.imshow(image,cmap=\"gray\")\n",
    "print(\"Label :\",label)"
   ]
  },
  {
   "cell_type": "code",
   "execution_count": 9,
   "id": "ebe5e4b4-9bbf-4f0e-bbb6-f54bda54df4b",
   "metadata": {},
   "outputs": [],
   "source": [
    "# Takes data in any format and convert it into tensor format\n",
    "import torchvision.transforms as transforms"
   ]
  },
  {
   "cell_type": "code",
   "execution_count": 10,
   "id": "19443890-b786-4c36-9c1b-d9bb34dff9c8",
   "metadata": {},
   "outputs": [],
   "source": [
    "train_data=MNIST(root = 'data/',\n",
    "                 train = True,\n",
    "                 transform = transforms.ToTensor())"
   ]
  },
  {
   "cell_type": "code",
   "execution_count": 11,
   "id": "52af2344-eb1a-4cbf-9fcb-709e45d3868c",
   "metadata": {},
   "outputs": [
    {
     "name": "stdout",
     "output_type": "stream",
     "text": [
      "torch.Size([1, 28, 28]) 5\n"
     ]
    }
   ],
   "source": [
    "# Image tensor and shape of image\n",
    "img_tensor,label = train_data[0]\n",
    "print(img_tensor.shape, label)"
   ]
  },
  {
   "cell_type": "code",
   "execution_count": 12,
   "id": "aa133a43-f747-446e-a999-5a17e8921db2",
   "metadata": {},
   "outputs": [
    {
     "name": "stdout",
     "output_type": "stream",
     "text": [
      "tensor([[[0.0039, 0.6039, 0.9922, 0.3529, 0.0000],\n",
      "         [0.0000, 0.5451, 0.9922, 0.7451, 0.0078],\n",
      "         [0.0000, 0.0431, 0.7451, 0.9922, 0.2745],\n",
      "         [0.0000, 0.0000, 0.1373, 0.9451, 0.8824],\n",
      "         [0.0000, 0.0000, 0.0000, 0.3176, 0.9412]]])\n",
      "tensor(1.) tensor(0.)\n"
     ]
    }
   ],
   "source": [
    "# Sample values from image tensor\n",
    "print(img_tensor[:,10:15,10:15])\n",
    "print(torch.max(img_tensor), torch.min(img_tensor))"
   ]
  },
  {
   "cell_type": "code",
   "execution_count": 13,
   "id": "23d6b5b5-e66a-47d8-9057-1ac62f1e0127",
   "metadata": {},
   "outputs": [
    {
     "data": {
      "text/plain": [
       "<matplotlib.image.AxesImage at 0x17ae5f76c10>"
      ]
     },
     "execution_count": 13,
     "metadata": {},
     "output_type": "execute_result"
    },
    {
     "data": {
      "image/png": "[encoded data removed]",
      "text/plain": [
       "<Figure size 640x480 with 1 Axes>"
      ]
     },
     "metadata": {},
     "output_type": "display_data"
    }
   ],
   "source": [
    "plt.imshow(img_tensor[0,10:15,10:15],cmap='gray')"
   ]
  },
  {
   "cell_type": "markdown",
   "id": "873855f9-875b-4641-b5f6-d3bbed1ce22b",
   "metadata": {},
   "source": [
    "## Training and Validation Datasets"
   ]
  },
  {
   "cell_type": "code",
   "execution_count": 14,
   "id": "92d0bb9d-3ee1-481d-b4c6-d2dff7c70507",
   "metadata": {},
   "outputs": [
    {
     "data": {
      "text/plain": [
       "(50000, 10000)"
      ]
     },
     "execution_count": 14,
     "metadata": {},
     "output_type": "execute_result"
    }
   ],
   "source": [
    "from torch.utils.data import random_split\n",
    "train_ds, val_ds = random_split(train_data , [50000, 10000])\n",
    "len(train_ds) , len(val_ds)"
   ]
  },
  {
   "cell_type": "code",
   "execution_count": 15,
   "id": "6529c9ce-2e02-48c2-bb86-628cf1bd59eb",
   "metadata": {},
   "outputs": [],
   "source": [
    "from torch.utils.data import DataLoader\n",
    "batch_size = 128\n",
    "\n",
    "train_loader = DataLoader(train_ds, batch_size, shuffle=True)\n",
    "val_loader = DataLoader(val_ds,batch_size)"
   ]
  },
  {
   "cell_type": "markdown",
   "id": "22edcd16-10f4-450f-96fe-02ea31ef5546",
   "metadata": {},
   "source": [
    "## Model"
   ]
  },
  {
   "cell_type": "code",
   "execution_count": 16,
   "id": "e50da9d6-e461-480c-ac2a-49f24fa69314",
   "metadata": {},
   "outputs": [],
   "source": [
    "import torch.nn as nn\n",
    "input_size=28*28\n",
    "num_classes =10\n",
    "\n",
    "#Logistic regression model\n",
    "model = nn.Linear(input_size, num_classes)"
   ]
  },
  {
   "cell_type": "code",
   "execution_count": 17,
   "id": "4114f369-e774-471d-8793-401d606ec732",
   "metadata": {},
   "outputs": [
    {
     "name": "stdout",
     "output_type": "stream",
     "text": [
      "torch.Size([10, 784])\n"
     ]
    },
    {
     "data": {
      "text/plain": [
       "(Parameter containing:\n",
       " tensor([[ 0.0048, -0.0161,  0.0087,  ..., -0.0264, -0.0318, -0.0085],\n",
       "         [-0.0252,  0.0059, -0.0253,  ..., -0.0251,  0.0025, -0.0096],\n",
       "         [-0.0148, -0.0203, -0.0183,  ...,  0.0316,  0.0021,  0.0289],\n",
       "         ...,\n",
       "         [ 0.0299,  0.0265, -0.0283,  ..., -0.0027,  0.0166,  0.0330],\n",
       "         [ 0.0227,  0.0026, -0.0315,  ..., -0.0256, -0.0288,  0.0096],\n",
       "         [ 0.0143, -0.0106,  0.0066,  ..., -0.0311, -0.0131,  0.0252]],\n",
       "        requires_grad=True),\n",
       " <bound method Module.parameters of Linear(in_features=784, out_features=10, bias=True)>)"
      ]
     },
     "execution_count": 17,
     "metadata": {},
     "output_type": "execute_result"
    }
   ],
   "source": [
    "print(model.weight.shape)\n",
    "model.weight , model.parameters\n"
   ]
  },
  {
   "cell_type": "code",
   "execution_count": 18,
   "id": "c44e16af-9f50-4183-b01a-ee01baccb492",
   "metadata": {},
   "outputs": [
    {
     "name": "stdout",
     "output_type": "stream",
     "text": [
      "torch.Size([10])\n"
     ]
    },
    {
     "data": {
      "text/plain": [
       "Parameter containing:\n",
       "tensor([ 0.0086,  0.0350,  0.0245, -0.0337,  0.0080, -0.0081, -0.0265,  0.0189,\n",
       "        -0.0188,  0.0193], requires_grad=True)"
      ]
     },
     "execution_count": 18,
     "metadata": {},
     "output_type": "execute_result"
    }
   ],
   "source": [
    "print(model.bias.shape)\n",
    "model.bias"
   ]
  },
  {
   "cell_type": "code",
   "execution_count": 19,
   "id": "35cdd5e5-bc97-4787-bea3-dc90ac773085",
   "metadata": {},
   "outputs": [
    {
     "name": "stdout",
     "output_type": "stream",
     "text": [
      "tensor([9, 2, 2, 3, 4, 4, 2, 0, 7, 5, 7, 6, 2, 7, 1, 6, 0, 1, 1, 6, 5, 9, 4, 8,\n",
      "        5, 2, 1, 9, 2, 3, 1, 5, 8, 9, 5, 1, 9, 1, 0, 9, 4, 4, 1, 4, 5, 7, 2, 3,\n",
      "        7, 6, 0, 6, 6, 9, 3, 8, 7, 9, 0, 3, 9, 2, 8, 9, 8, 8, 8, 8, 5, 2, 2, 9,\n",
      "        7, 9, 0, 0, 9, 3, 1, 8, 0, 1, 6, 1, 8, 9, 3, 0, 3, 2, 1, 4, 6, 3, 0, 9,\n",
      "        6, 8, 7, 4, 4, 0, 3, 0, 1, 1, 2, 2, 8, 8, 9, 9, 0, 7, 8, 1, 9, 7, 2, 6,\n",
      "        0, 7, 4, 1, 8, 1, 4, 9])\n",
      "torch.Size([128, 1, 28, 28])\n"
     ]
    },
    {
     "ename": "RuntimeError",
     "evalue": "mat1 and mat2 shapes cannot be multiplied (3584x28 and 784x10)",
     "output_type": "error",
     "traceback": [
      "\u001b[1;31m---------------------------------------------------------------------------\u001b[0m",
      "\u001b[1;31mRuntimeError\u001b[0m                              Traceback (most recent call last)",
      "Cell \u001b[1;32mIn[19], line 4\u001b[0m\n\u001b[0;32m      2\u001b[0m \u001b[38;5;28mprint\u001b[39m(labels)\n\u001b[0;32m      3\u001b[0m \u001b[38;5;28mprint\u001b[39m(images\u001b[38;5;241m.\u001b[39mshape)\n\u001b[1;32m----> 4\u001b[0m outputs \u001b[38;5;241m=\u001b[39m model(images)\n\u001b[0;32m      5\u001b[0m \u001b[38;5;28;01mbreak\u001b[39;00m\n",
      "File \u001b[1;32m~\\miniconda3\\envs\\torch\\Lib\\site-packages\\torch\\nn\\modules\\module.py:1511\u001b[0m, in \u001b[0;36mModule._wrapped_call_impl\u001b[1;34m(self, *args, **kwargs)\u001b[0m\n\u001b[0;32m   1509\u001b[0m     \u001b[38;5;28;01mreturn\u001b[39;00m \u001b[38;5;28mself\u001b[39m\u001b[38;5;241m.\u001b[39m_compiled_call_impl(\u001b[38;5;241m*\u001b[39margs, \u001b[38;5;241m*\u001b[39m\u001b[38;5;241m*\u001b[39mkwargs)  \u001b[38;5;66;03m# type: ignore[misc]\u001b[39;00m\n\u001b[0;32m   1510\u001b[0m \u001b[38;5;28;01melse\u001b[39;00m:\n\u001b[1;32m-> 1511\u001b[0m     \u001b[38;5;28;01mreturn\u001b[39;00m \u001b[38;5;28mself\u001b[39m\u001b[38;5;241m.\u001b[39m_call_impl(\u001b[38;5;241m*\u001b[39margs, \u001b[38;5;241m*\u001b[39m\u001b[38;5;241m*\u001b[39mkwargs)\n",
      "File \u001b[1;32m~\\miniconda3\\envs\\torch\\Lib\\site-packages\\torch\\nn\\modules\\module.py:1520\u001b[0m, in \u001b[0;36mModule._call_impl\u001b[1;34m(self, *args, **kwargs)\u001b[0m\n\u001b[0;32m   1515\u001b[0m \u001b[38;5;66;03m# If we don't have any hooks, we want to skip the rest of the logic in\u001b[39;00m\n\u001b[0;32m   1516\u001b[0m \u001b[38;5;66;03m# this function, and just call forward.\u001b[39;00m\n\u001b[0;32m   1517\u001b[0m \u001b[38;5;28;01mif\u001b[39;00m \u001b[38;5;129;01mnot\u001b[39;00m (\u001b[38;5;28mself\u001b[39m\u001b[38;5;241m.\u001b[39m_backward_hooks \u001b[38;5;129;01mor\u001b[39;00m \u001b[38;5;28mself\u001b[39m\u001b[38;5;241m.\u001b[39m_backward_pre_hooks \u001b[38;5;129;01mor\u001b[39;00m \u001b[38;5;28mself\u001b[39m\u001b[38;5;241m.\u001b[39m_forward_hooks \u001b[38;5;129;01mor\u001b[39;00m \u001b[38;5;28mself\u001b[39m\u001b[38;5;241m.\u001b[39m_forward_pre_hooks\n\u001b[0;32m   1518\u001b[0m         \u001b[38;5;129;01mor\u001b[39;00m _global_backward_pre_hooks \u001b[38;5;129;01mor\u001b[39;00m _global_backward_hooks\n\u001b[0;32m   1519\u001b[0m         \u001b[38;5;129;01mor\u001b[39;00m _global_forward_hooks \u001b[38;5;129;01mor\u001b[39;00m _global_forward_pre_hooks):\n\u001b[1;32m-> 1520\u001b[0m     \u001b[38;5;28;01mreturn\u001b[39;00m forward_call(\u001b[38;5;241m*\u001b[39margs, \u001b[38;5;241m*\u001b[39m\u001b[38;5;241m*\u001b[39mkwargs)\n\u001b[0;32m   1522\u001b[0m \u001b[38;5;28;01mtry\u001b[39;00m:\n\u001b[0;32m   1523\u001b[0m     result \u001b[38;5;241m=\u001b[39m \u001b[38;5;28;01mNone\u001b[39;00m\n",
      "File \u001b[1;32m~\\miniconda3\\envs\\torch\\Lib\\site-packages\\torch\\nn\\modules\\linear.py:116\u001b[0m, in \u001b[0;36mLinear.forward\u001b[1;34m(self, input)\u001b[0m\n\u001b[0;32m    115\u001b[0m \u001b[38;5;28;01mdef\u001b[39;00m \u001b[38;5;21mforward\u001b[39m(\u001b[38;5;28mself\u001b[39m, \u001b[38;5;28minput\u001b[39m: Tensor) \u001b[38;5;241m-\u001b[39m\u001b[38;5;241m>\u001b[39m Tensor:\n\u001b[1;32m--> 116\u001b[0m     \u001b[38;5;28;01mreturn\u001b[39;00m F\u001b[38;5;241m.\u001b[39mlinear(\u001b[38;5;28minput\u001b[39m, \u001b[38;5;28mself\u001b[39m\u001b[38;5;241m.\u001b[39mweight, \u001b[38;5;28mself\u001b[39m\u001b[38;5;241m.\u001b[39mbias)\n",
      "\u001b[1;31mRuntimeError\u001b[0m: mat1 and mat2 shapes cannot be multiplied (3584x28 and 784x10)"
     ]
    }
   ],
   "source": [
    "for images,labels in train_loader:\n",
    "    print(labels)\n",
    "    print(images.shape)\n",
    "    outputs = model(images)\n",
    "    break"
   ]
  },
  {
   "cell_type": "code",
   "execution_count": 20,
   "id": "7f3a5efd-bd41-4d0a-8ce6-88e750242377",
   "metadata": {},
   "outputs": [
    {
     "data": {
      "text/plain": [
       "torch.Size([128, 1, 28, 28])"
      ]
     },
     "execution_count": 20,
     "metadata": {},
     "output_type": "execute_result"
    }
   ],
   "source": [
    "images.shape"
   ]
  },
  {
   "cell_type": "code",
   "execution_count": 21,
   "id": "d43bdf4d-7638-4f6a-92a7-8be0b9da051b",
   "metadata": {},
   "outputs": [
    {
     "data": {
      "text/plain": [
       "torch.Size([128, 784])"
      ]
     },
     "execution_count": 21,
     "metadata": {},
     "output_type": "execute_result"
    }
   ],
   "source": [
    "images.reshape(128,784).shape"
   ]
  },
  {
   "cell_type": "code",
   "execution_count": 22,
   "id": "e8a33202-7b61-4d0c-9763-b35a6288632a",
   "metadata": {},
   "outputs": [],
   "source": [
    "class MnistModel(nn.Module):\n",
    "    def __init__(self):\n",
    "        super().__init__()\n",
    "        self.linear = nn.Linear(input_size,num_classes)\n",
    "    def forward(self,xb):\n",
    "        xb = xb.reshape(-1,784)\n",
    "        out = self.linear(xb)\n",
    "        return out"
   ]
  },
  {
   "cell_type": "code",
   "execution_count": 23,
   "id": "355ab311-e084-48b2-9f01-0fa2e738b15d",
   "metadata": {},
   "outputs": [],
   "source": [
    "model=MnistModel()"
   ]
  },
  {
   "cell_type": "code",
   "execution_count": 24,
   "id": "37314c09-f5ab-46d9-85ce-b7041df98165",
   "metadata": {
    "scrolled": true
   },
   "outputs": [
    {
     "name": "stdout",
     "output_type": "stream",
     "text": [
      "torch.Size([10, 784]) torch.Size([10])\n"
     ]
    },
    {
     "data": {
      "text/plain": [
       "[Parameter containing:\n",
       " tensor([[ 0.0225, -0.0013,  0.0058,  ...,  0.0021, -0.0051, -0.0202],\n",
       "         [ 0.0303, -0.0151,  0.0123,  ..., -0.0031, -0.0214, -0.0067],\n",
       "         [-0.0024, -0.0034, -0.0210,  ...,  0.0043, -0.0151, -0.0288],\n",
       "         ...,\n",
       "         [ 0.0314, -0.0050, -0.0035,  ...,  0.0102, -0.0333,  0.0345],\n",
       "         [-0.0076, -0.0136, -0.0138,  ...,  0.0128,  0.0093,  0.0249],\n",
       "         [-0.0146,  0.0044,  0.0211,  ...,  0.0202,  0.0009, -0.0216]],\n",
       "        requires_grad=True),\n",
       " Parameter containing:\n",
       " tensor([-0.0143,  0.0272, -0.0185,  0.0309, -0.0139,  0.0293,  0.0313, -0.0198,\n",
       "         -0.0219,  0.0160], requires_grad=True)]"
      ]
     },
     "execution_count": 24,
     "metadata": {},
     "output_type": "execute_result"
    }
   ],
   "source": [
    "print(model.linear.weight.shape, model.linear.bias.shape)\n",
    "list(model.parameters())"
   ]
  },
  {
   "cell_type": "code",
   "execution_count": 25,
   "id": "7ef0822b-069a-4d71-9dd7-db7a116d952a",
   "metadata": {},
   "outputs": [
    {
     "name": "stdout",
     "output_type": "stream",
     "text": [
      "torch.Size([128, 1, 28, 28])\n",
      "Outputs shape : torch.Size([128, 10])\n",
      "Sample outputs: tensor([[-0.1958,  0.2130, -0.2188,  0.0581, -0.1592, -0.1185, -0.2382, -0.1161,\n",
      "         -0.0622,  0.2244],\n",
      "        [-0.2762,  0.1673, -0.0790,  0.0745, -0.1056, -0.0251, -0.2309, -0.1746,\n",
      "         -0.1189,  0.1873]])\n"
     ]
    }
   ],
   "source": [
    "for images,labels in train_loader:\n",
    "    print(images.shape)\n",
    "    outputs = model(images)\n",
    "    break\n",
    "print(f\"Outputs shape : {outputs.shape}\")\n",
    "print(f\"Sample outputs: {outputs[:2].data}\")"
   ]
  },
  {
   "cell_type": "code",
   "execution_count": 26,
   "id": "6ed5ffc0-2935-4a7e-b281-a27c263cfec5",
   "metadata": {},
   "outputs": [],
   "source": [
    "import torch.nn.functional as F"
   ]
  },
  {
   "cell_type": "code",
   "execution_count": 27,
   "id": "8f0f487a-b571-45df-8b8e-83e5af3c9047",
   "metadata": {},
   "outputs": [
    {
     "name": "stdout",
     "output_type": "stream",
     "text": [
      "sample probabilities\n",
      " tensor([[0.0862, 0.1298, 0.0843, 0.1112, 0.0895, 0.0932, 0.0827, 0.0934, 0.0986,\n",
      "         0.1313],\n",
      "        [0.0795, 0.1238, 0.0968, 0.1129, 0.0943, 0.1022, 0.0832, 0.0880, 0.0930,\n",
      "         0.1264]])\n",
      "Sum: 1.0\n"
     ]
    }
   ],
   "source": [
    "# Apply softmax for aech output row\n",
    "probs= F.softmax(outputs, dim=1)\n",
    "\n",
    "# Look at sample probabilities\n",
    "\n",
    "print(f\"sample probabilities\\n {probs[:2].data}\")\n",
    "\n",
    "# Add up the probabilities of the output row\n",
    "\n",
    "print(f\"Sum: {torch.sum(probs[0]).item()}\")"
   ]
  },
  {
   "cell_type": "code",
   "execution_count": 28,
   "id": "47ee57c2-7b66-497b-890d-539c661ff39e",
   "metadata": {},
   "outputs": [
    {
     "name": "stdout",
     "output_type": "stream",
     "text": [
      "tensor([9, 9, 9, 5, 1, 9, 5, 5, 7, 1, 9, 1, 9, 9, 1, 9, 6, 3, 9, 1, 5, 5, 9, 5,\n",
      "        1, 1, 9, 1, 7, 5, 1, 1, 3, 5, 1, 9, 1, 1, 5, 5, 7, 1, 3, 5, 1, 1, 8, 9,\n",
      "        9, 1, 3, 7, 0, 9, 9, 5, 3, 7, 3, 1, 1, 5, 3, 1, 5, 5, 9, 1, 2, 2, 2, 9,\n",
      "        9, 5, 2, 3, 9, 1, 1, 3, 1, 5, 3, 7, 5, 1, 9, 9, 1, 9, 5, 1, 1, 1, 7, 9,\n",
      "        5, 1, 9, 1, 9, 1, 1, 1, 0, 1, 1, 9, 5, 3, 7, 9, 5, 5, 1, 5, 0, 5, 3, 9,\n",
      "        1, 5, 5, 3, 1, 5, 9, 9])\n",
      "tensor([0.1313, 0.1264, 0.1226, 0.1152, 0.1378, 0.1212, 0.1311, 0.1256, 0.1213,\n",
      "        0.1162, 0.1226, 0.1381, 0.1576, 0.1600, 0.1152, 0.1252, 0.1131, 0.1337,\n",
      "        0.1132, 0.1407, 0.1228, 0.1348, 0.1317, 0.1158, 0.1195, 0.1366, 0.1369,\n",
      "        0.1332, 0.1290, 0.1531, 0.1222, 0.1339, 0.1364, 0.1173, 0.1507, 0.1514,\n",
      "        0.1263, 0.1426, 0.1212, 0.1344, 0.1270, 0.1194, 0.1248, 0.1320, 0.1423,\n",
      "        0.1447, 0.1245, 0.1175, 0.1400, 0.1406, 0.1308, 0.1144, 0.1163, 0.1308,\n",
      "        0.1269, 0.1139, 0.1159, 0.1191, 0.1364, 0.1102, 0.1294, 0.1364, 0.1306,\n",
      "        0.1262, 0.1448, 0.1370, 0.1171, 0.1365, 0.1272, 0.1359, 0.1387, 0.1151,\n",
      "        0.1443, 0.1198, 0.1384, 0.1526, 0.1308, 0.1342, 0.1335, 0.1267, 0.1234,\n",
      "        0.1353, 0.1326, 0.1218, 0.1226, 0.1444, 0.1111, 0.1240, 0.1252, 0.1338,\n",
      "        0.1275, 0.1237, 0.1331, 0.1272, 0.1241, 0.1299, 0.1198, 0.1371, 0.1228,\n",
      "        0.1500, 0.1347, 0.1346, 0.1258, 0.1356, 0.1298, 0.1442, 0.1408, 0.1343,\n",
      "        0.1209, 0.1175, 0.1369, 0.1183, 0.1147, 0.1210, 0.1181, 0.1279, 0.1097,\n",
      "        0.1247, 0.1439, 0.1260, 0.1295, 0.1334, 0.1411, 0.1371, 0.1311, 0.1389,\n",
      "        0.1470, 0.1333], grad_fn=<MaxBackward0>)\n"
     ]
    }
   ],
   "source": [
    "max_probs, preds = torch.max(probs, dim=1)\n",
    "print(preds)\n",
    "print(max_probs)"
   ]
  },
  {
   "cell_type": "code",
   "execution_count": 29,
   "id": "ce841bdb-0da4-41ce-9614-574147d854a5",
   "metadata": {},
   "outputs": [
    {
     "data": {
      "text/plain": [
       "tensor([1, 1, 2, 1, 3, 1, 4, 5, 7, 4, 3, 8, 5, 8, 8, 7, 6, 3, 1, 2, 2, 7, 2, 6,\n",
       "        6, 3, 5, 1, 0, 4, 9, 8, 1, 5, 8, 8, 1, 2, 7, 3, 0, 7, 0, 4, 5, 2, 2, 0,\n",
       "        3, 3, 4, 0, 7, 5, 8, 4, 2, 6, 5, 7, 7, 8, 0, 7, 4, 5, 9, 8, 6, 0, 0, 1,\n",
       "        8, 4, 0, 3, 3, 2, 0, 1, 5, 8, 9, 6, 6, 1, 7, 7, 1, 2, 3, 8, 2, 1, 2, 8,\n",
       "        9, 2, 9, 0, 5, 8, 9, 1, 4, 3, 9, 0, 4, 4, 2, 4, 4, 5, 7, 0, 5, 8, 2, 6,\n",
       "        9, 4, 4, 1, 0, 3, 1, 3])"
      ]
     },
     "execution_count": 29,
     "metadata": {},
     "output_type": "execute_result"
    }
   ],
   "source": [
    "labels"
   ]
  },
  {
   "cell_type": "code",
   "execution_count": 30,
   "id": "5a83c419-249a-453b-b862-1c8fdd3f99da",
   "metadata": {},
   "outputs": [
    {
     "data": {
      "text/plain": [
       "tensor(16)"
      ]
     },
     "execution_count": 30,
     "metadata": {},
     "output_type": "execute_result"
    }
   ],
   "source": [
    "torch.sum(preds==labels)"
   ]
  },
  {
   "cell_type": "markdown",
   "id": "41afc8a4-a832-4011-a974-df11cafc27e6",
   "metadata": {},
   "source": [
    "## Evaluation Metric and Loss Function"
   ]
  },
  {
   "cell_type": "code",
   "execution_count": 31,
   "id": "22e241fa-1967-4144-ab88-6ec6bf1a1e25",
   "metadata": {},
   "outputs": [],
   "source": [
    "def accuracy(outputs, labels):\n",
    "    _,preds = torch.max(outputs,dim=1)\n",
    "    return torch.tensor(torch.sum(preds==labels).item()/len(preds))"
   ]
  },
  {
   "cell_type": "code",
   "execution_count": 32,
   "id": "7f582e1d-14c6-4b8c-9efb-6f422b01666d",
   "metadata": {},
   "outputs": [
    {
     "data": {
      "text/plain": [
       "tensor(0.1250)"
      ]
     },
     "execution_count": 32,
     "metadata": {},
     "output_type": "execute_result"
    }
   ],
   "source": [
    "accuracy(outputs,labels)"
   ]
  },
  {
   "cell_type": "code",
   "execution_count": 33,
   "id": "bb5f94fe-241e-44aa-9aa0-fd5e672db243",
   "metadata": {},
   "outputs": [
    {
     "data": {
      "text/plain": [
       "tensor([[-0.1958,  0.2130, -0.2188,  ..., -0.1161, -0.0622,  0.2244],\n",
       "        [-0.2762,  0.1673, -0.0790,  ..., -0.1746, -0.1189,  0.1873],\n",
       "        [-0.0912,  0.1898, -0.1182,  ...,  0.1535, -0.1766,  0.2029],\n",
       "        ...,\n",
       "        [-0.3665,  0.1313, -0.0261,  ..., -0.1115,  0.2664, -0.0259],\n",
       "        [-0.1718,  0.1357, -0.3268,  ...,  0.0136, -0.4828,  0.3000],\n",
       "        [-0.4224,  0.1211,  0.1403,  ...,  0.0556, -0.2112,  0.2834]],\n",
       "       grad_fn=<AddmmBackward0>)"
      ]
     },
     "execution_count": 33,
     "metadata": {},
     "output_type": "execute_result"
    }
   ],
   "source": [
    "outputs"
   ]
  },
  {
   "cell_type": "code",
   "execution_count": 34,
   "id": "b2e16f77-cf68-4088-9a26-ef47de2cda19",
   "metadata": {},
   "outputs": [],
   "source": [
    "loss_fn = F.cross_entropy"
   ]
  },
  {
   "cell_type": "code",
   "execution_count": 35,
   "id": "f0e8e478-f3c9-4940-ad16-b7c5a4d5c6e6",
   "metadata": {},
   "outputs": [
    {
     "name": "stdout",
     "output_type": "stream",
     "text": [
      "tensor(2.3228, grad_fn=<NllLossBackward0>)\n"
     ]
    }
   ],
   "source": [
    "loss = loss_fn(outputs,labels)\n",
    "print(loss)"
   ]
  },
  {
   "cell_type": "code",
   "execution_count": 36,
   "id": "657834c6-d58a-463a-9cc8-e1ac28eaa476",
   "metadata": {},
   "outputs": [],
   "source": [
    "# Utility function to train the model\n",
    "\n",
    "def fit(num_epochs,lr,model, train_loader, val_loader, opt_func=torch.optim.SGD):\n",
    "    optimizer = opt_func(model.parameters(),lr)\n",
    "    history=[] # For recording epoch wise results\n",
    "\n",
    "    # Repeat for given number of epochs\n",
    "    for epoch in range(num_epochs):\n",
    "        # Training phase\n",
    "        for batch in train_loader:\n",
    "            loss = model.training_step(batch)\n",
    "            loss.backward()\n",
    "            optimizer.step()\n",
    "            optimizer.zero_grad()\n",
    "        # Validation phase\n",
    "        result = evaluate(model, val_loader)\n",
    "        model.epoch_end(epoch, result)\n",
    "        history.append(result)\n",
    "    \n",
    "    return history\n",
    "        "
   ]
  },
  {
   "cell_type": "code",
   "execution_count": 37,
   "id": "ee5a9c04-d5f2-4a83-8a52-eed17c77c72e",
   "metadata": {},
   "outputs": [],
   "source": [
    "def evaluate(model, val_loader):\n",
    "    outputs=[model.validation_step(batch) for batch in val_loader]\n",
    "    return model.validation_epoch_end(outputs)"
   ]
  },
  {
   "cell_type": "code",
   "execution_count": 38,
   "id": "81e0ade9-bf8d-4495-900a-337d7ec7d5b4",
   "metadata": {},
   "outputs": [],
   "source": [
    "class MnistModel(nn.Module):\n",
    "    def __init__(self):\n",
    "        super().__init__()\n",
    "        self.linear=nn.Linear(input_size,num_classes)\n",
    "        \n",
    "    def forward(self, xb):\n",
    "        xb = xb.reshape(-1, 784)\n",
    "        out= self.linear(xb)\n",
    "        return out\n",
    "        \n",
    "    def training_step(self,batch):\n",
    "        images, labels = batch\n",
    "        out = self(images)                  # Takes image as input by the class object and generate prediction\n",
    "        loss = F.cross_entropy(out, labels) # Calculate loss\n",
    "        return loss\n",
    "\n",
    "    def validation_step(self,batch):\n",
    "        images, labels = batch\n",
    "        out = self(images)                  # Takes image as input by the class object and generate prediction\n",
    "        loss = F.cross_entropy(out, labels) #Calculate loss\n",
    "        acc = accuracy(out, labels)         #Calculate accuracy\n",
    "        return {'val_loss': loss, 'val_acc' :acc}\n",
    "\n",
    "    def validation_epoch_end(self, outputs):\n",
    "        batch_losses = [x['val_loss'] for x in outputs]\n",
    "        epoch_loss = torch.stack(batch_losses).mean() # Combine losses\n",
    "        batch_accs = [x['val_acc'] for x in outputs]\n",
    "        epoch_acc = torch.stack(batch_accs).mean()    # Combine accuracies\n",
    "        return {'val_loss':epoch_loss.item(), 'val_acc': epoch_acc.item()}\n",
    "\n",
    "    def epoch_end(self,epoch,result):\n",
    "        print(f\"Epoch {epoch} , val_loss: {result['val_loss']} , val_acc: {result['val_acc']}\")"
   ]
  },
  {
   "cell_type": "code",
   "execution_count": 39,
   "id": "7c793fee-a4b7-4127-83a3-cf0a0b09eb0e",
   "metadata": {},
   "outputs": [],
   "source": [
    "model=MnistModel()"
   ]
  },
  {
   "cell_type": "code",
   "execution_count": 40,
   "id": "d126bb66-8d82-4d82-900f-20e3ec0e9748",
   "metadata": {},
   "outputs": [
    {
     "data": {
      "text/plain": [
       "{'val_loss': 2.342298746109009, 'val_acc': 0.08257515728473663}"
      ]
     },
     "execution_count": 40,
     "metadata": {},
     "output_type": "execute_result"
    }
   ],
   "source": [
    "result0= evaluate(model, val_loader)\n",
    "result0"
   ]
  },
  {
   "cell_type": "code",
   "execution_count": 41,
   "id": "93d03a8f-c046-461f-9abb-f111cb66be49",
   "metadata": {},
   "outputs": [
    {
     "name": "stdout",
     "output_type": "stream",
     "text": [
      "Epoch 0 , val_loss: 1.9664889574050903 , val_acc: 0.6050237417221069\n",
      "Epoch 1 , val_loss: 1.6940079927444458 , val_acc: 0.7191455960273743\n",
      "Epoch 2 , val_loss: 1.491442084312439 , val_acc: 0.753757894039154\n",
      "Epoch 3 , val_loss: 1.3389023542404175 , val_acc: 0.7735363841056824\n",
      "Epoch 4 , val_loss: 1.2216955423355103 , val_acc: 0.7893591523170471\n"
     ]
    }
   ],
   "source": [
    "history1 = fit(5,0.001, model,train_loader,val_loader)"
   ]
  },
  {
   "cell_type": "code",
   "execution_count": 42,
   "id": "9da2c2b1-d48e-48df-b9f8-f688d04d8e6e",
   "metadata": {},
   "outputs": [
    {
     "name": "stdout",
     "output_type": "stream",
     "text": [
      "Epoch 0 , val_loss: 1.129822015762329 , val_acc: 0.7989517450332642\n",
      "Epoch 1 , val_loss: 1.0561370849609375 , val_acc: 0.8070608973503113\n",
      "Epoch 2 , val_loss: 0.995890736579895 , val_acc: 0.8126977682113647\n",
      "Epoch 3 , val_loss: 0.9457451701164246 , val_acc: 0.8178402185440063\n",
      "Epoch 4 , val_loss: 0.9033287167549133 , val_acc: 0.8232792615890503\n"
     ]
    }
   ],
   "source": [
    "history2 = fit(5,0.001, model,train_loader,val_loader)"
   ]
  },
  {
   "cell_type": "code",
   "execution_count": 43,
   "id": "16e6b8bb-3bcf-4607-af29-53a57e422192",
   "metadata": {},
   "outputs": [
    {
     "name": "stdout",
     "output_type": "stream",
     "text": [
      "Epoch 0 , val_loss: 0.8670108914375305 , val_acc: 0.8264438509941101\n",
      "Epoch 1 , val_loss: 0.8355069756507874 , val_acc: 0.8296083807945251\n",
      "Epoch 2 , val_loss: 0.8079581260681152 , val_acc: 0.8322784900665283\n",
      "Epoch 3 , val_loss: 0.7836190462112427 , val_acc: 0.8350474834442139\n",
      "Epoch 4 , val_loss: 0.7618813514709473 , val_acc: 0.8383108973503113\n"
     ]
    }
   ],
   "source": [
    "history3 = fit(5,0.001, model,train_loader,val_loader)"
   ]
  },
  {
   "cell_type": "code",
   "execution_count": 44,
   "id": "4cee4eae-f37e-4412-8a52-b41223a1adfa",
   "metadata": {},
   "outputs": [
    {
     "name": "stdout",
     "output_type": "stream",
     "text": [
      "Epoch 0 , val_loss: 0.7424095273017883 , val_acc: 0.8398932218551636\n",
      "Epoch 1 , val_loss: 0.7248820066452026 , val_acc: 0.8426621556282043\n",
      "Epoch 2 , val_loss: 0.7089653611183167 , val_acc: 0.8442444801330566\n",
      "Epoch 3 , val_loss: 0.6944640874862671 , val_acc: 0.8460245132446289\n",
      "Epoch 4 , val_loss: 0.6811038851737976 , val_acc: 0.8479034900665283\n"
     ]
    }
   ],
   "source": [
    "history4 = fit(5,0.001, model,train_loader,val_loader)"
   ]
  },
  {
   "cell_type": "code",
   "execution_count": 45,
   "id": "f73b17f8-d1ec-465c-a70b-ed75f41c1736",
   "metadata": {},
   "outputs": [
    {
     "name": "stdout",
     "output_type": "stream",
     "text": [
      "Epoch 0 , val_loss: 0.6688832640647888 , val_acc: 0.8495846390724182\n",
      "Epoch 1 , val_loss: 0.6575096845626831 , val_acc: 0.8512658476829529\n",
      "Epoch 2 , val_loss: 0.6469974517822266 , val_acc: 0.8528481125831604\n",
      "Epoch 3 , val_loss: 0.6372058987617493 , val_acc: 0.8539358973503113\n",
      "Epoch 4 , val_loss: 0.6280723214149475 , val_acc: 0.8551226258277893\n"
     ]
    }
   ],
   "source": [
    "history5 = fit(5,0.001, model,train_loader,val_loader)"
   ]
  },
  {
   "cell_type": "code",
   "execution_count": 46,
   "id": "0d085213-203c-47df-b8d7-26893e89b9b7",
   "metadata": {},
   "outputs": [
    {
     "data": {
      "text/plain": [
       "Text(0.5, 1.0, 'Accuracy vs No. of Epochs')"
      ]
     },
     "execution_count": 46,
     "metadata": {},
     "output_type": "execute_result"
    },
    {
     "data": {
      "image/png": "[encoded data removed]",
      "text/plain": [
       "<Figure size 640x480 with 1 Axes>"
      ]
     },
     "metadata": {},
     "output_type": "display_data"
    }
   ],
   "source": [
    "history = [result0] + history1+history2+history3+history4+history5\n",
    "accuracies = [result['val_acc'] for result in history]\n",
    "plt.plot(accuracies,\"-x\")\n",
    "plt.xlabel('Epoch')\n",
    "plt.ylabel('accuracy')\n",
    "plt.title('Accuracy vs No. of Epochs')"
   ]
  },
  {
   "cell_type": "markdown",
   "id": "40ec5217-76a1-4ec5-901b-8043ff2c05db",
   "metadata": {},
   "source": [
    "### Testing with Individual images"
   ]
  },
  {
   "cell_type": "code",
   "execution_count": 47,
   "id": "cd65326f-a047-4214-be7a-2f500d6c0b80",
   "metadata": {},
   "outputs": [],
   "source": [
    "# Define test dataset\n",
    "test_dataset = MNIST(root = 'data/', train=False,\n",
    "                     transform=transforms.ToTensor())"
   ]
  },
  {
   "cell_type": "code",
   "execution_count": 48,
   "id": "63c6110f-bacb-44c0-9840-c05a6f774381",
   "metadata": {},
   "outputs": [
    {
     "name": "stdout",
     "output_type": "stream",
     "text": [
      "Shape: torch.Size([1, 28, 28])\n",
      "Label: 7\n"
     ]
    },
    {
     "data": {
      "image/png": "[encoded data removed]",
      "text/plain": [
       "<Figure size 640x480 with 1 Axes>"
      ]
     },
     "metadata": {},
     "output_type": "display_data"
    }
   ],
   "source": [
    "img,label = test_dataset[0]\n",
    "plt.imshow(img[0],cmap='gray')\n",
    "print('Shape:' , img.shape)\n",
    "print('Label:' ,label)"
   ]
  },
  {
   "cell_type": "code",
   "execution_count": 49,
   "id": "efb4ae25-eb05-4f42-bce9-d05c8284ce90",
   "metadata": {},
   "outputs": [],
   "source": [
    "def predict_image(img,model):\n",
    "    xb=img.unsqueeze(0)\n",
    "    yb=model(xb)\n",
    "    _,preds=torch.max(yb,dim=1)\n",
    "    return preds[0].item()"
   ]
  },
  {
   "cell_type": "code",
   "execution_count": 50,
   "id": "208d4b8b-27ea-4569-8996-74d06403f1cc",
   "metadata": {},
   "outputs": [
    {
     "name": "stdout",
     "output_type": "stream",
     "text": [
      "Label: 7 ,Predicted: 7\n"
     ]
    },
    {
     "data": {
      "image/png": "[encoded data removed]",
      "text/plain": [
       "<Figure size 640x480 with 1 Axes>"
      ]
     },
     "metadata": {},
     "output_type": "display_data"
    }
   ],
   "source": [
    "img,label=test_dataset[0]\n",
    "plt.imshow(img[0],cmap='gray')\n",
    "print('Label:',label,',Predicted:' , predict_image(img,model))"
   ]
  },
  {
   "cell_type": "code",
   "execution_count": 51,
   "id": "bdf3963a-efe7-4d03-a7a1-94995bd7022d",
   "metadata": {},
   "outputs": [
    {
     "name": "stdout",
     "output_type": "stream",
     "text": [
      "Label: 0 ,Predicted: 0\n"
     ]
    },
    {
     "data": {
      "image/png": "[encoded data removed]",
      "text/plain": [
       "<Figure size 640x480 with 1 Axes>"
      ]
     },
     "metadata": {},
     "output_type": "display_data"
    }
   ],
   "source": [
    "img,label=test_dataset[10]\n",
    "plt.imshow(img[0],cmap='gray')\n",
    "print('Label:',label,',Predicted:' , predict_image(img,model))"
   ]
  },
  {
   "cell_type": "code",
   "execution_count": 52,
   "id": "7c1c7a8c-e4cc-40a5-bafb-766564a8f7b6",
   "metadata": {},
   "outputs": [
    {
     "name": "stdout",
     "output_type": "stream",
     "text": [
      "Label: 9 ,Predicted: 9\n"
     ]
    },
    {
     "data": {
      "image/png": "[encoded data removed]",
      "text/plain": [
       "<Figure size 640x480 with 1 Axes>"
      ]
     },
     "metadata": {},
     "output_type": "display_data"
    }
   ],
   "source": [
    "img,label=test_dataset[193]\n",
    "plt.imshow(img[0],cmap='gray')\n",
    "print('Label:',label,',Predicted:' , predict_image(img,model))"
   ]
  },
  {
   "cell_type": "code",
   "execution_count": 53,
   "id": "1382f4f8-1ddc-49ec-9fb4-cb6a16e91745",
   "metadata": {},
   "outputs": [
    {
     "name": "stdout",
     "output_type": "stream",
     "text": [
      "Label: 2 ,Predicted: 8\n"
     ]
    },
    {
     "data": {
      "image/png": "[encoded data removed]",
      "text/plain": [
       "<Figure size 640x480 with 1 Axes>"
      ]
     },
     "metadata": {},
     "output_type": "display_data"
    }
   ],
   "source": [
    "img,label=test_dataset[1839]\n",
    "plt.imshow(img[0],cmap='gray')\n",
    "print('Label:',label,',Predicted:' , predict_image(img,model))"
   ]
  },
  {
   "cell_type": "code",
   "execution_count": 54,
   "id": "b9023c0d-fcd2-43c6-801f-fe2414775c45",
   "metadata": {},
   "outputs": [
    {
     "data": {
      "text/plain": [
       "{'val_loss': 0.5901200771331787, 'val_acc': 0.8646484613418579}"
      ]
     },
     "execution_count": 54,
     "metadata": {},
     "output_type": "execute_result"
    }
   ],
   "source": [
    "test_loader=DataLoader(test_dataset, batch_size=256)\n",
    "result = evaluate(model,test_loader)\n",
    "result"
   ]
  },
  {
   "cell_type": "markdown",
   "id": "e09911c8-1512-4149-8a0f-4300523cd819",
   "metadata": {},
   "source": [
    "### Save Model"
   ]
  },
  {
   "cell_type": "code",
   "execution_count": 55,
   "id": "a88582c1-d847-466d-991b-de4042f645b8",
   "metadata": {},
   "outputs": [],
   "source": [
    "torch.save(model.state_dict(),'mnist-logistic.pth')"
   ]
  },
  {
   "cell_type": "code",
   "execution_count": 56,
   "id": "4f59b797-b8d9-4e07-a706-028f885e5458",
   "metadata": {},
   "outputs": [
    {
     "data": {
      "text/plain": [
       "OrderedDict([('linear.weight',\n",
       "              tensor([[ 0.0217, -0.0144,  0.0241,  ...,  0.0296,  0.0353,  0.0207],\n",
       "                      [ 0.0316, -0.0263,  0.0140,  ..., -0.0155, -0.0120, -0.0071],\n",
       "                      [ 0.0140, -0.0151, -0.0064,  ..., -0.0217, -0.0243, -0.0273],\n",
       "                      ...,\n",
       "                      [ 0.0223,  0.0104, -0.0020,  ..., -0.0187, -0.0226, -0.0129],\n",
       "                      [ 0.0290, -0.0099, -0.0201,  ..., -0.0031,  0.0012, -0.0195],\n",
       "                      [ 0.0162, -0.0296,  0.0240,  ...,  0.0007, -0.0153,  0.0316]])),\n",
       "             ('linear.bias',\n",
       "              tensor([-0.0358,  0.0939, -0.0148, -0.0318,  0.0229,  0.0635, -0.0364,  0.0241,\n",
       "                      -0.0801,  0.0222]))])"
      ]
     },
     "execution_count": 56,
     "metadata": {},
     "output_type": "execute_result"
    }
   ],
   "source": [
    "model.state_dict()"
   ]
  },
  {
   "cell_type": "code",
   "execution_count": 57,
   "id": "71be49c5-3cb6-43f8-a96d-5d13add1a061",
   "metadata": {},
   "outputs": [],
   "source": [
    "model2=MnistModel()"
   ]
  },
  {
   "cell_type": "code",
   "execution_count": 58,
   "id": "4d34a67e-e063-4e47-8c0b-0bb3b5466653",
   "metadata": {},
   "outputs": [
    {
     "data": {
      "text/plain": [
       "OrderedDict([('linear.weight',\n",
       "              tensor([[-1.9836e-02,  3.1494e-02, -1.5998e-02,  ..., -2.3677e-02,\n",
       "                       -1.8277e-02,  8.6806e-03],\n",
       "                      [ 2.1145e-02,  3.2980e-02,  8.2243e-03,  ..., -3.4948e-02,\n",
       "                       -3.5319e-02,  3.0369e-02],\n",
       "                      [-6.8659e-03,  1.8404e-03, -1.5445e-03,  ...,  8.8045e-04,\n",
       "                       -1.6078e-02,  1.0251e-02],\n",
       "                      ...,\n",
       "                      [-9.8804e-04, -3.3294e-02,  2.9393e-02,  ..., -1.3869e-02,\n",
       "                       -9.9110e-03,  2.4418e-03],\n",
       "                      [-2.5727e-02,  9.6949e-03,  1.7802e-02,  ..., -3.4264e-02,\n",
       "                       -3.9837e-03, -1.1493e-02],\n",
       "                      [-1.1665e-02,  9.5289e-05,  2.3776e-02,  ...,  2.2795e-02,\n",
       "                       -9.3515e-03, -1.0368e-02]])),\n",
       "             ('linear.bias',\n",
       "              tensor([-0.0303,  0.0017,  0.0068,  0.0214,  0.0126,  0.0103, -0.0143, -0.0332,\n",
       "                      -0.0147, -0.0290]))])"
      ]
     },
     "execution_count": 58,
     "metadata": {},
     "output_type": "execute_result"
    }
   ],
   "source": [
    "model2.state_dict()"
   ]
  },
  {
   "cell_type": "code",
   "execution_count": 59,
   "id": "ef32a4e3-cdd8-4199-9e2f-797540dc035e",
   "metadata": {},
   "outputs": [
    {
     "data": {
      "text/plain": [
       "{'val_loss': 2.3155133724212646, 'val_acc': 0.11249999701976776}"
      ]
     },
     "execution_count": 59,
     "metadata": {},
     "output_type": "execute_result"
    }
   ],
   "source": [
    "evaluate(model2,test_loader)"
   ]
  },
  {
   "cell_type": "code",
   "execution_count": 60,
   "id": "04b3c5c6-07d1-47b5-9d4c-dac05a26ae28",
   "metadata": {},
   "outputs": [
    {
     "data": {
      "text/plain": [
       "<All keys matched successfully>"
      ]
     },
     "execution_count": 60,
     "metadata": {},
     "output_type": "execute_result"
    }
   ],
   "source": [
    "model2.load_state_dict(torch.load('mnist-logistic.pth'))"
   ]
  },
  {
   "cell_type": "code",
   "execution_count": 61,
   "id": "7e3a189b-89f5-483b-915c-49f882a6e7db",
   "metadata": {},
   "outputs": [
    {
     "data": {
      "text/plain": [
       "OrderedDict([('linear.weight',\n",
       "              tensor([[ 0.0217, -0.0144,  0.0241,  ...,  0.0296,  0.0353,  0.0207],\n",
       "                      [ 0.0316, -0.0263,  0.0140,  ..., -0.0155, -0.0120, -0.0071],\n",
       "                      [ 0.0140, -0.0151, -0.0064,  ..., -0.0217, -0.0243, -0.0273],\n",
       "                      ...,\n",
       "                      [ 0.0223,  0.0104, -0.0020,  ..., -0.0187, -0.0226, -0.0129],\n",
       "                      [ 0.0290, -0.0099, -0.0201,  ..., -0.0031,  0.0012, -0.0195],\n",
       "                      [ 0.0162, -0.0296,  0.0240,  ...,  0.0007, -0.0153,  0.0316]])),\n",
       "             ('linear.bias',\n",
       "              tensor([-0.0358,  0.0939, -0.0148, -0.0318,  0.0229,  0.0635, -0.0364,  0.0241,\n",
       "                      -0.0801,  0.0222]))])"
      ]
     },
     "execution_count": 61,
     "metadata": {},
     "output_type": "execute_result"
    }
   ],
   "source": [
    "model2.state_dict()"
   ]
  },
  {
   "cell_type": "code",
   "execution_count": 62,
   "id": "b984a118-2549-40a1-aa9f-12bbe6f8ec90",
   "metadata": {},
   "outputs": [
    {
     "data": {
      "text/plain": [
       "{'val_loss': 0.5901200771331787, 'val_acc': 0.8646484613418579}"
      ]
     },
     "execution_count": 62,
     "metadata": {},
     "output_type": "execute_result"
    }
   ],
   "source": [
    "test_loader = DataLoader(test_dataset, batch_size=256)\n",
    "result=evaluate(model2,test_loader)\n",
    "result"
   ]
  },
  {
   "cell_type": "code",
   "execution_count": null,
   "id": "43ee0a5c-8f6a-4bb6-a2e0-393579026529",
   "metadata": {},
   "outputs": [],
   "source": []
  }
 ],
 "metadata": {
  "kernelspec": {
   "display_name": "Python 3.11 (torch)",
   "language": "python",
   "name": "pytorch"
  },
  "language_info": {
   "codemirror_mode": {
    "name": "ipython",
    "version": 3
   },
   "file_extension": ".py",
   "mimetype": "text/x-python",
   "name": "python",
   "nbconvert_exporter": "python",
   "pygments_lexer": "ipython3",
   "version": "3.11.9"
  },
  "widgets": {
   "application/vnd.jupyter.widget-state+json": {
    "state": {},
    "version_major": 2,
    "version_minor": 0
   }
  }
 },
 "nbformat": 4,
 "nbformat_minor": 5
}
