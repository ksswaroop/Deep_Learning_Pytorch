{
 "cells": [
  {
   "cell_type": "code",
   "execution_count": 12,
   "id": "04320514-c00d-498b-8dae-bd25f4eefdcd",
   "metadata": {},
   "outputs": [],
   "source": [
    "import torch\n",
    "import torchvision.models as models\n",
    "from torch import nn"
   ]
  },
  {
   "cell_type": "code",
   "execution_count": 2,
   "id": "d6ce16b1-0b04-4bbc-b62e-c000fa4a5a65",
   "metadata": {},
   "outputs": [
    {
     "name": "stderr",
     "output_type": "stream",
     "text": [
      "C:\\Users\\ksais\\miniconda3\\envs\\torch\\Lib\\site-packages\\torchvision\\models\\_utils.py:208: UserWarning: The parameter 'pretrained' is deprecated since 0.13 and may be removed in the future, please use 'weights' instead.\n",
      "  warnings.warn(\n",
      "C:\\Users\\ksais\\miniconda3\\envs\\torch\\Lib\\site-packages\\torchvision\\models\\_utils.py:223: UserWarning: Arguments other than a weight enum or `None` for 'weights' are deprecated since 0.13 and may be removed in the future. The current behavior is equivalent to passing `weights=ResNet18_Weights.IMAGENET1K_V1`. You can also use `weights=ResNet18_Weights.DEFAULT` to get the most up-to-date weights.\n",
      "  warnings.warn(msg)\n",
      "Downloading: \"https://download.pytorch.org/models/resnet18-f37072fd.pth\" to C:\\Users\\ksais/.cache\\torch\\hub\\checkpoints\\resnet18-f37072fd.pth\n",
      "100%|██████████████████████████████████████████████████████████████████████████████| 44.7M/44.7M [01:54<00:00, 407kB/s]\n"
     ]
    }
   ],
   "source": [
    "# Example: Load a pre-trained ResNet18 model\n",
    "model = models.resnet18(pretrained=True)"
   ]
  },
  {
   "cell_type": "code",
   "execution_count": 3,
   "id": "04e6243c-4c40-4592-8ba2-cdfda8dc239c",
   "metadata": {},
   "outputs": [
    {
     "data": {
      "text/plain": [
       "ResNet(\n",
       "  (conv1): Conv2d(3, 64, kernel_size=(7, 7), stride=(2, 2), padding=(3, 3), bias=False)\n",
       "  (bn1): BatchNorm2d(64, eps=1e-05, momentum=0.1, affine=True, track_running_stats=True)\n",
       "  (relu): ReLU(inplace=True)\n",
       "  (maxpool): MaxPool2d(kernel_size=3, stride=2, padding=1, dilation=1, ceil_mode=False)\n",
       "  (layer1): Sequential(\n",
       "    (0): BasicBlock(\n",
       "      (conv1): Conv2d(64, 64, kernel_size=(3, 3), stride=(1, 1), padding=(1, 1), bias=False)\n",
       "      (bn1): BatchNorm2d(64, eps=1e-05, momentum=0.1, affine=True, track_running_stats=True)\n",
       "      (relu): ReLU(inplace=True)\n",
       "      (conv2): Conv2d(64, 64, kernel_size=(3, 3), stride=(1, 1), padding=(1, 1), bias=False)\n",
       "      (bn2): BatchNorm2d(64, eps=1e-05, momentum=0.1, affine=True, track_running_stats=True)\n",
       "    )\n",
       "    (1): BasicBlock(\n",
       "      (conv1): Conv2d(64, 64, kernel_size=(3, 3), stride=(1, 1), padding=(1, 1), bias=False)\n",
       "      (bn1): BatchNorm2d(64, eps=1e-05, momentum=0.1, affine=True, track_running_stats=True)\n",
       "      (relu): ReLU(inplace=True)\n",
       "      (conv2): Conv2d(64, 64, kernel_size=(3, 3), stride=(1, 1), padding=(1, 1), bias=False)\n",
       "      (bn2): BatchNorm2d(64, eps=1e-05, momentum=0.1, affine=True, track_running_stats=True)\n",
       "    )\n",
       "  )\n",
       "  (layer2): Sequential(\n",
       "    (0): BasicBlock(\n",
       "      (conv1): Conv2d(64, 128, kernel_size=(3, 3), stride=(2, 2), padding=(1, 1), bias=False)\n",
       "      (bn1): BatchNorm2d(128, eps=1e-05, momentum=0.1, affine=True, track_running_stats=True)\n",
       "      (relu): ReLU(inplace=True)\n",
       "      (conv2): Conv2d(128, 128, kernel_size=(3, 3), stride=(1, 1), padding=(1, 1), bias=False)\n",
       "      (bn2): BatchNorm2d(128, eps=1e-05, momentum=0.1, affine=True, track_running_stats=True)\n",
       "      (downsample): Sequential(\n",
       "        (0): Conv2d(64, 128, kernel_size=(1, 1), stride=(2, 2), bias=False)\n",
       "        (1): BatchNorm2d(128, eps=1e-05, momentum=0.1, affine=True, track_running_stats=True)\n",
       "      )\n",
       "    )\n",
       "    (1): BasicBlock(\n",
       "      (conv1): Conv2d(128, 128, kernel_size=(3, 3), stride=(1, 1), padding=(1, 1), bias=False)\n",
       "      (bn1): BatchNorm2d(128, eps=1e-05, momentum=0.1, affine=True, track_running_stats=True)\n",
       "      (relu): ReLU(inplace=True)\n",
       "      (conv2): Conv2d(128, 128, kernel_size=(3, 3), stride=(1, 1), padding=(1, 1), bias=False)\n",
       "      (bn2): BatchNorm2d(128, eps=1e-05, momentum=0.1, affine=True, track_running_stats=True)\n",
       "    )\n",
       "  )\n",
       "  (layer3): Sequential(\n",
       "    (0): BasicBlock(\n",
       "      (conv1): Conv2d(128, 256, kernel_size=(3, 3), stride=(2, 2), padding=(1, 1), bias=False)\n",
       "      (bn1): BatchNorm2d(256, eps=1e-05, momentum=0.1, affine=True, track_running_stats=True)\n",
       "      (relu): ReLU(inplace=True)\n",
       "      (conv2): Conv2d(256, 256, kernel_size=(3, 3), stride=(1, 1), padding=(1, 1), bias=False)\n",
       "      (bn2): BatchNorm2d(256, eps=1e-05, momentum=0.1, affine=True, track_running_stats=True)\n",
       "      (downsample): Sequential(\n",
       "        (0): Conv2d(128, 256, kernel_size=(1, 1), stride=(2, 2), bias=False)\n",
       "        (1): BatchNorm2d(256, eps=1e-05, momentum=0.1, affine=True, track_running_stats=True)\n",
       "      )\n",
       "    )\n",
       "    (1): BasicBlock(\n",
       "      (conv1): Conv2d(256, 256, kernel_size=(3, 3), stride=(1, 1), padding=(1, 1), bias=False)\n",
       "      (bn1): BatchNorm2d(256, eps=1e-05, momentum=0.1, affine=True, track_running_stats=True)\n",
       "      (relu): ReLU(inplace=True)\n",
       "      (conv2): Conv2d(256, 256, kernel_size=(3, 3), stride=(1, 1), padding=(1, 1), bias=False)\n",
       "      (bn2): BatchNorm2d(256, eps=1e-05, momentum=0.1, affine=True, track_running_stats=True)\n",
       "    )\n",
       "  )\n",
       "  (layer4): Sequential(\n",
       "    (0): BasicBlock(\n",
       "      (conv1): Conv2d(256, 512, kernel_size=(3, 3), stride=(2, 2), padding=(1, 1), bias=False)\n",
       "      (bn1): BatchNorm2d(512, eps=1e-05, momentum=0.1, affine=True, track_running_stats=True)\n",
       "      (relu): ReLU(inplace=True)\n",
       "      (conv2): Conv2d(512, 512, kernel_size=(3, 3), stride=(1, 1), padding=(1, 1), bias=False)\n",
       "      (bn2): BatchNorm2d(512, eps=1e-05, momentum=0.1, affine=True, track_running_stats=True)\n",
       "      (downsample): Sequential(\n",
       "        (0): Conv2d(256, 512, kernel_size=(1, 1), stride=(2, 2), bias=False)\n",
       "        (1): BatchNorm2d(512, eps=1e-05, momentum=0.1, affine=True, track_running_stats=True)\n",
       "      )\n",
       "    )\n",
       "    (1): BasicBlock(\n",
       "      (conv1): Conv2d(512, 512, kernel_size=(3, 3), stride=(1, 1), padding=(1, 1), bias=False)\n",
       "      (bn1): BatchNorm2d(512, eps=1e-05, momentum=0.1, affine=True, track_running_stats=True)\n",
       "      (relu): ReLU(inplace=True)\n",
       "      (conv2): Conv2d(512, 512, kernel_size=(3, 3), stride=(1, 1), padding=(1, 1), bias=False)\n",
       "      (bn2): BatchNorm2d(512, eps=1e-05, momentum=0.1, affine=True, track_running_stats=True)\n",
       "    )\n",
       "  )\n",
       "  (avgpool): AdaptiveAvgPool2d(output_size=(1, 1))\n",
       "  (fc): Linear(in_features=512, out_features=1000, bias=True)\n",
       ")"
      ]
     },
     "execution_count": 3,
     "metadata": {},
     "output_type": "execute_result"
    }
   ],
   "source": [
    "model"
   ]
  },
  {
   "cell_type": "code",
   "execution_count": 4,
   "id": "b3abd87e-b3e5-4bd7-ab17-a6fe4995f712",
   "metadata": {},
   "outputs": [],
   "source": [
    "import torchaudio"
   ]
  },
  {
   "cell_type": "code",
   "execution_count": 6,
   "id": "d1a47a9c-8e87-457b-8ace-1fb7f0694987",
   "metadata": {},
   "outputs": [],
   "source": [
    "audio,sr=torchaudio.load(\"C:\\\\Users\\\\ksais\\\\Documents\\\\Research\\\\Research Project\\\\AutoEncoder\\\\Decomposed Audio\\\\6__10_07_13_marDeCangas_Entra\\\\1_6__10_07_13_marDeCangas_Entra.wav\")"
   ]
  },
  {
   "cell_type": "code",
   "execution_count": 7,
   "id": "b3f74753-9154-4ff4-b375-18d7d10b7ab4",
   "metadata": {},
   "outputs": [
    {
     "data": {
      "text/plain": [
       "torch.Size([1, 263670])"
      ]
     },
     "execution_count": 7,
     "metadata": {},
     "output_type": "execute_result"
    }
   ],
   "source": [
    "audio.shape"
   ]
  },
  {
   "cell_type": "code",
   "execution_count": 8,
   "id": "0890553b-d564-4ae2-a6b0-7405df97aac4",
   "metadata": {},
   "outputs": [
    {
     "data": {
      "text/plain": [
       "torch.Size([1, 1, 263670])"
      ]
     },
     "execution_count": 8,
     "metadata": {},
     "output_type": "execute_result"
    }
   ],
   "source": [
    "audio=audio.unsqueeze(0)\n",
    "audio.shape"
   ]
  },
  {
   "cell_type": "code",
   "execution_count": 10,
   "id": "36433e95-0e0d-4403-ad7c-b9b92e9480cd",
   "metadata": {},
   "outputs": [
    {
     "data": {
      "text/plain": [
       "Conv2d(3, 64, kernel_size=(7, 7), stride=(2, 2), padding=(3, 3), bias=False)"
      ]
     },
     "execution_count": 10,
     "metadata": {},
     "output_type": "execute_result"
    }
   ],
   "source": [
    "model.conv1"
   ]
  },
  {
   "cell_type": "code",
   "execution_count": 13,
   "id": "84c29330-372c-4d48-a9a5-c5c416be896b",
   "metadata": {},
   "outputs": [],
   "source": [
    "model.conv1=nn.Conv2d(1, 64, kernel_size=(7, 7), stride=(2, 2), padding=(3, 3), bias=False)"
   ]
  },
  {
   "cell_type": "code",
   "execution_count": 14,
   "id": "1e0e1f26-011e-44be-a3a3-d849e9fe19f3",
   "metadata": {},
   "outputs": [
    {
     "data": {
      "text/plain": [
       "ResNet(\n",
       "  (conv1): Conv2d(1, 64, kernel_size=(7, 7), stride=(2, 2), padding=(3, 3), bias=False)\n",
       "  (bn1): BatchNorm2d(64, eps=1e-05, momentum=0.1, affine=True, track_running_stats=True)\n",
       "  (relu): ReLU(inplace=True)\n",
       "  (maxpool): MaxPool2d(kernel_size=3, stride=2, padding=1, dilation=1, ceil_mode=False)\n",
       "  (layer1): Sequential(\n",
       "    (0): BasicBlock(\n",
       "      (conv1): Conv2d(64, 64, kernel_size=(3, 3), stride=(1, 1), padding=(1, 1), bias=False)\n",
       "      (bn1): BatchNorm2d(64, eps=1e-05, momentum=0.1, affine=True, track_running_stats=True)\n",
       "      (relu): ReLU(inplace=True)\n",
       "      (conv2): Conv2d(64, 64, kernel_size=(3, 3), stride=(1, 1), padding=(1, 1), bias=False)\n",
       "      (bn2): BatchNorm2d(64, eps=1e-05, momentum=0.1, affine=True, track_running_stats=True)\n",
       "    )\n",
       "    (1): BasicBlock(\n",
       "      (conv1): Conv2d(64, 64, kernel_size=(3, 3), stride=(1, 1), padding=(1, 1), bias=False)\n",
       "      (bn1): BatchNorm2d(64, eps=1e-05, momentum=0.1, affine=True, track_running_stats=True)\n",
       "      (relu): ReLU(inplace=True)\n",
       "      (conv2): Conv2d(64, 64, kernel_size=(3, 3), stride=(1, 1), padding=(1, 1), bias=False)\n",
       "      (bn2): BatchNorm2d(64, eps=1e-05, momentum=0.1, affine=True, track_running_stats=True)\n",
       "    )\n",
       "  )\n",
       "  (layer2): Sequential(\n",
       "    (0): BasicBlock(\n",
       "      (conv1): Conv2d(64, 128, kernel_size=(3, 3), stride=(2, 2), padding=(1, 1), bias=False)\n",
       "      (bn1): BatchNorm2d(128, eps=1e-05, momentum=0.1, affine=True, track_running_stats=True)\n",
       "      (relu): ReLU(inplace=True)\n",
       "      (conv2): Conv2d(128, 128, kernel_size=(3, 3), stride=(1, 1), padding=(1, 1), bias=False)\n",
       "      (bn2): BatchNorm2d(128, eps=1e-05, momentum=0.1, affine=True, track_running_stats=True)\n",
       "      (downsample): Sequential(\n",
       "        (0): Conv2d(64, 128, kernel_size=(1, 1), stride=(2, 2), bias=False)\n",
       "        (1): BatchNorm2d(128, eps=1e-05, momentum=0.1, affine=True, track_running_stats=True)\n",
       "      )\n",
       "    )\n",
       "    (1): BasicBlock(\n",
       "      (conv1): Conv2d(128, 128, kernel_size=(3, 3), stride=(1, 1), padding=(1, 1), bias=False)\n",
       "      (bn1): BatchNorm2d(128, eps=1e-05, momentum=0.1, affine=True, track_running_stats=True)\n",
       "      (relu): ReLU(inplace=True)\n",
       "      (conv2): Conv2d(128, 128, kernel_size=(3, 3), stride=(1, 1), padding=(1, 1), bias=False)\n",
       "      (bn2): BatchNorm2d(128, eps=1e-05, momentum=0.1, affine=True, track_running_stats=True)\n",
       "    )\n",
       "  )\n",
       "  (layer3): Sequential(\n",
       "    (0): BasicBlock(\n",
       "      (conv1): Conv2d(128, 256, kernel_size=(3, 3), stride=(2, 2), padding=(1, 1), bias=False)\n",
       "      (bn1): BatchNorm2d(256, eps=1e-05, momentum=0.1, affine=True, track_running_stats=True)\n",
       "      (relu): ReLU(inplace=True)\n",
       "      (conv2): Conv2d(256, 256, kernel_size=(3, 3), stride=(1, 1), padding=(1, 1), bias=False)\n",
       "      (bn2): BatchNorm2d(256, eps=1e-05, momentum=0.1, affine=True, track_running_stats=True)\n",
       "      (downsample): Sequential(\n",
       "        (0): Conv2d(128, 256, kernel_size=(1, 1), stride=(2, 2), bias=False)\n",
       "        (1): BatchNorm2d(256, eps=1e-05, momentum=0.1, affine=True, track_running_stats=True)\n",
       "      )\n",
       "    )\n",
       "    (1): BasicBlock(\n",
       "      (conv1): Conv2d(256, 256, kernel_size=(3, 3), stride=(1, 1), padding=(1, 1), bias=False)\n",
       "      (bn1): BatchNorm2d(256, eps=1e-05, momentum=0.1, affine=True, track_running_stats=True)\n",
       "      (relu): ReLU(inplace=True)\n",
       "      (conv2): Conv2d(256, 256, kernel_size=(3, 3), stride=(1, 1), padding=(1, 1), bias=False)\n",
       "      (bn2): BatchNorm2d(256, eps=1e-05, momentum=0.1, affine=True, track_running_stats=True)\n",
       "    )\n",
       "  )\n",
       "  (layer4): Sequential(\n",
       "    (0): BasicBlock(\n",
       "      (conv1): Conv2d(256, 512, kernel_size=(3, 3), stride=(2, 2), padding=(1, 1), bias=False)\n",
       "      (bn1): BatchNorm2d(512, eps=1e-05, momentum=0.1, affine=True, track_running_stats=True)\n",
       "      (relu): ReLU(inplace=True)\n",
       "      (conv2): Conv2d(512, 512, kernel_size=(3, 3), stride=(1, 1), padding=(1, 1), bias=False)\n",
       "      (bn2): BatchNorm2d(512, eps=1e-05, momentum=0.1, affine=True, track_running_stats=True)\n",
       "      (downsample): Sequential(\n",
       "        (0): Conv2d(256, 512, kernel_size=(1, 1), stride=(2, 2), bias=False)\n",
       "        (1): BatchNorm2d(512, eps=1e-05, momentum=0.1, affine=True, track_running_stats=True)\n",
       "      )\n",
       "    )\n",
       "    (1): BasicBlock(\n",
       "      (conv1): Conv2d(512, 512, kernel_size=(3, 3), stride=(1, 1), padding=(1, 1), bias=False)\n",
       "      (bn1): BatchNorm2d(512, eps=1e-05, momentum=0.1, affine=True, track_running_stats=True)\n",
       "      (relu): ReLU(inplace=True)\n",
       "      (conv2): Conv2d(512, 512, kernel_size=(3, 3), stride=(1, 1), padding=(1, 1), bias=False)\n",
       "      (bn2): BatchNorm2d(512, eps=1e-05, momentum=0.1, affine=True, track_running_stats=True)\n",
       "    )\n",
       "  )\n",
       "  (avgpool): AdaptiveAvgPool2d(output_size=(1, 1))\n",
       "  (fc): Linear(in_features=512, out_features=1000, bias=True)\n",
       ")"
      ]
     },
     "execution_count": 14,
     "metadata": {},
     "output_type": "execute_result"
    }
   ],
   "source": [
    "model"
   ]
  },
  {
   "cell_type": "code",
   "execution_count": 16,
   "id": "4536cf0b-5cf1-461c-a654-b7e2d012baa3",
   "metadata": {},
   "outputs": [],
   "source": [
    "transform = torchaudio.transforms.Spectrogram(n_fft=1024)"
   ]
  },
  {
   "cell_type": "code",
   "execution_count": 17,
   "id": "aaf9cdee-f69e-4f19-83d8-4050c155c22e",
   "metadata": {},
   "outputs": [],
   "source": [
    "spec=transform(audio)"
   ]
  },
  {
   "cell_type": "code",
   "execution_count": 18,
   "id": "e72d617b-0a85-4184-8f8a-31e461635f70",
   "metadata": {},
   "outputs": [
    {
     "data": {
      "text/plain": [
       "torch.Size([1, 1, 513, 515])"
      ]
     },
     "execution_count": 18,
     "metadata": {},
     "output_type": "execute_result"
    }
   ],
   "source": [
    "spec.shape"
   ]
  },
  {
   "cell_type": "code",
   "execution_count": 19,
   "id": "57a31240-f61f-4f4f-8c0e-31c464e094b6",
   "metadata": {
    "scrolled": true
   },
   "outputs": [
    {
     "data": {
      "text/plain": [
       "tensor([[-4.9148e-01, -6.0454e-01, -3.3063e-01, -1.1013e+00, -5.4105e-01,\n",
       "         -1.1944e-01, -3.5578e-01,  5.8098e-01,  3.4377e-01, -6.0348e-01,\n",
       "         -1.0178e+00, -7.0602e-01, -3.4480e-01, -7.2645e-01, -1.0362e+00,\n",
       "         -6.3673e-01, -7.6354e-01, -2.8579e-01, -3.0022e-01, -4.0817e-01,\n",
       "         -1.2129e+00, -5.3973e-01, -1.0559e+00,  2.7778e-01, -8.8137e-01,\n",
       "         -1.0172e+00, -6.7037e-01, -1.1407e+00, -8.0304e-01, -1.8957e-01,\n",
       "         -7.3532e-01, -7.9791e-01, -4.1867e-01, -5.6145e-01, -2.4176e-01,\n",
       "         -5.3888e-01,  4.0719e-01, -8.7687e-01, -4.7234e-01,  2.9764e-02,\n",
       "         -6.3661e-01, -7.6778e-01, -1.0505e+00, -3.7470e-01, -6.3596e-01,\n",
       "         -4.2862e-01, -6.7736e-01, -4.9297e-01, -1.0281e+00, -9.1267e-01,\n",
       "         -3.8608e-01,  4.0204e-01, -1.6186e-01, -6.5057e-01, -2.6014e-01,\n",
       "         -1.0195e+00, -4.3511e-01, -1.3673e+00, -4.6102e-01, -4.6954e-01,\n",
       "          5.6004e-01,  1.2600e-01, -3.6938e-02,  1.8136e-01, -6.1544e-01,\n",
       "         -1.5352e-01, -1.8123e-01, -3.1818e-01, -7.0768e-01, -7.5074e-01,\n",
       "         -1.5099e+00,  1.3426e-01, -1.2518e+00, -2.1364e-01, -1.0949e+00,\n",
       "         -1.0475e+00,  2.2116e-01, -4.0363e-01,  3.0743e-01,  1.5384e-01,\n",
       "         -6.6848e-01, -1.4133e+00, -1.2450e-01, -6.8858e-01, -4.9202e-01,\n",
       "          6.8334e-02,  7.8625e-02,  1.5031e-01, -2.9015e-01, -6.0268e-01,\n",
       "         -1.3176e+00, -9.5204e-01, -1.6996e+00, -2.8976e-01, -9.2562e-02,\n",
       "         -1.9854e+00, -6.1888e-01, -3.4346e-01, -1.1151e+00, -1.4372e-01,\n",
       "         -9.8949e-01, -7.0849e-01, -5.9482e-01, -1.6605e-01,  3.3658e-02,\n",
       "         -5.8893e-01, -3.3785e-01, -1.1000e+00, -9.2878e-01, -1.3430e+00,\n",
       "         -1.0926e+00, -4.0454e-01,  1.1132e+00,  3.3102e-01,  3.1542e-01,\n",
       "         -9.8985e-01, -7.3375e-01, -2.5638e-01,  4.4105e-01, -3.5697e-01,\n",
       "         -7.6722e-01, -2.9772e-02,  1.7242e-01, -3.1591e-02,  8.5972e-01,\n",
       "         -2.2636e-01,  4.2520e-01, -9.8974e-01, -8.4130e-01, -8.5899e-01,\n",
       "         -1.1573e+00, -1.0318e+00, -7.4548e-01, -1.0049e+00, -4.1006e-01,\n",
       "         -1.0651e+00, -8.5787e-01, -9.5225e-01, -1.0966e+00, -1.2969e+00,\n",
       "         -1.2622e+00, -1.4304e+00, -1.7808e+00, -1.2136e+00, -2.0708e-01,\n",
       "         -2.1101e-01, -4.9767e-01, -1.3829e+00, -7.4379e-01, -9.9434e-01,\n",
       "          6.4819e-01,  1.4310e+00, -8.5578e-01, -3.4706e-01, -3.5256e-02,\n",
       "          1.6220e-02, -3.2155e-01, -1.7093e-01,  2.3569e-01,  2.2370e-01,\n",
       "          2.8588e-01,  5.8519e-01,  9.6040e-02,  4.4266e-01,  2.7944e-01,\n",
       "         -2.2174e-01, -2.4056e-01, -5.5803e-01,  5.1994e-01, -2.3180e-01,\n",
       "         -1.3175e-01,  7.4400e-01,  3.7507e-01,  3.8350e-01,  1.0268e-01,\n",
       "         -7.2574e-01,  1.2353e-01, -3.6285e-02,  5.5523e-01,  5.9475e-01,\n",
       "          5.5975e-01, -8.6782e-02,  3.9338e-01,  5.6329e-02,  5.0388e-01,\n",
       "          5.9397e-01,  5.2269e-01,  2.1692e-01,  7.7223e-02,  4.2134e-01,\n",
       "         -4.6966e-01,  2.5415e-01,  3.6007e-01,  5.1810e-01, -6.3822e-01,\n",
       "          7.6772e-01,  1.8183e-02,  2.1028e-01,  1.9678e-01,  7.3704e-01,\n",
       "          3.8021e-02,  1.0607e-01,  4.7149e-01,  5.5148e-01,  8.1157e-02,\n",
       "          2.8522e-01, -6.9438e-02,  4.6199e-01,  1.0932e+00,  3.8635e-01,\n",
       "         -6.2569e-02,  3.5427e-01,  2.9399e-01,  3.6645e-02,  3.1289e-02,\n",
       "          2.7407e-01, -4.4180e-02,  3.6595e-01, -2.2927e-01,  4.9598e-01,\n",
       "          1.8785e-01, -1.0918e-01,  3.4687e-02,  7.0966e-01,  3.8157e-01,\n",
       "          3.7291e-01,  1.5324e-01,  8.6817e-01, -3.1006e-01, -8.2592e-02,\n",
       "          3.4120e-02,  5.3588e-01,  5.6464e-01, -1.2263e-01,  6.6748e-01,\n",
       "          7.5016e-01,  5.3846e-01,  4.1214e-01,  6.7453e-01, -1.1331e-01,\n",
       "          4.3796e-01, -1.2224e-01,  3.6847e-01,  1.9694e-01, -2.3169e-01,\n",
       "          3.0728e-01,  3.6200e-01, -8.2917e-02,  6.7186e-01,  2.4362e-01,\n",
       "          5.2065e-01,  5.3486e-01, -7.9764e-01,  4.8512e-01,  5.9988e-01,\n",
       "         -7.2166e-01,  3.9361e-01,  2.2904e-01, -7.0252e-03,  2.5440e-01,\n",
       "         -1.4288e-01, -5.7006e-01, -2.7463e-01,  2.5140e-01,  5.7311e-01,\n",
       "          6.0454e-01,  2.9668e-01,  4.7920e-01, -1.1056e-01, -3.0415e-01,\n",
       "         -5.3360e-01, -9.2849e-01, -5.1068e-01,  6.6148e-01, -7.6352e-01,\n",
       "         -7.8027e-01, -8.1430e-01, -6.7559e-01, -1.1363e+00, -4.5153e-01,\n",
       "         -4.2576e-01,  6.2697e-01,  5.9875e-01, -1.0354e-01,  1.7516e-01,\n",
       "          7.1710e-01, -2.9333e-01, -2.7812e-01, -6.7748e-01, -1.4836e+00,\n",
       "         -8.9419e-01, -1.0124e+00, -2.5665e-01, -8.2057e-01, -6.4996e-01,\n",
       "         -5.3519e-01, -6.5707e-01, -9.0701e-01, -3.4828e-01, -1.3855e-01,\n",
       "         -1.5629e+00, -7.7028e-01, -2.5868e-01, -2.7032e-01, -1.0858e+00,\n",
       "         -6.6333e-01,  2.3843e-01, -7.0481e-01, -1.3194e+00, -4.9565e-01,\n",
       "          5.2554e-01, -2.4484e-01, -3.4156e-01,  2.3271e-01,  6.6452e-01,\n",
       "         -3.3710e-01, -9.2495e-01, -1.0989e+00, -1.0299e+00, -7.3064e-01,\n",
       "         -1.2130e+00, -1.2754e+00, -1.2757e+00, -1.5804e+00, -1.3238e+00,\n",
       "         -1.5135e+00, -1.2583e+00,  5.6694e-02, -1.0521e-01, -2.9738e-01,\n",
       "          7.2492e-04, -1.3312e-01,  7.5406e-02,  1.4091e-01, -2.9062e-01,\n",
       "         -6.6287e-01, -1.3067e+00,  2.7899e-01,  6.9522e-01, -7.7682e-01,\n",
       "         -2.1502e-01,  7.9167e-01, -1.3559e-01, -8.9349e-01, -5.3636e-01,\n",
       "          7.9409e-01, -4.4356e-01, -1.1104e+00,  7.3411e-02, -9.5611e-01,\n",
       "         -7.9242e-01, -1.6664e+00, -1.0447e+00, -4.5012e-01, -5.5715e-01,\n",
       "          4.8562e-01,  1.0541e+00,  1.3902e-01,  4.6757e-01,  3.3149e-01,\n",
       "         -2.2097e-02,  6.0896e-01,  5.1152e-02,  1.8837e-01, -4.2532e-01,\n",
       "         -4.4094e-01, -8.5774e-01, -2.4966e-01, -7.2743e-01, -3.9485e-01,\n",
       "         -5.4137e-01, -1.8113e-01, -2.5015e-01,  9.3054e-02, -8.7072e-02,\n",
       "         -5.6668e-01, -8.2959e-01,  1.8738e-01, -1.9026e-01, -3.5069e-01,\n",
       "          1.8399e-01, -1.9605e-01, -3.0989e-01, -5.7812e-01, -7.2727e-01,\n",
       "         -3.7696e-01, -8.6394e-01, -1.0423e+00, -7.7032e-01, -1.6210e-01,\n",
       "          6.4053e-01,  2.6367e-01, -1.2547e+00, -1.6682e+00, -8.5371e-02,\n",
       "          6.5784e-01, -1.0303e+00, -5.4065e-01,  3.4133e-01,  1.4774e-01,\n",
       "         -6.7103e-01,  5.9075e-01,  2.1880e-02, -1.7300e+00, -1.5798e+00,\n",
       "         -4.5889e-01, -4.0623e-01, -3.7905e-01, -1.5429e-01,  9.0305e-01,\n",
       "         -2.2481e-01,  9.5111e-02,  1.7146e+00,  6.9802e-01,  3.9187e-01,\n",
       "          8.3407e-01, -2.6987e-02,  1.6687e-01,  2.6437e-01,  9.6999e-01,\n",
       "          6.2279e-01,  1.2953e+00,  6.1591e-02,  1.6707e-01,  1.9307e-01,\n",
       "         -6.7310e-01, -7.4964e-02,  1.2189e+00,  1.4228e+00,  4.5507e-01,\n",
       "         -5.6195e-01, -1.9471e-01,  3.5192e-01,  6.7686e-01,  4.1619e-01,\n",
       "          8.1740e-01, -3.4320e-01, -2.2597e-01,  3.1457e-01,  2.6062e-01,\n",
       "          8.4404e-01,  4.8835e-01,  1.5523e-01, -5.6992e-01, -3.4903e-01,\n",
       "          2.0744e-01,  4.5917e-01,  1.2739e+00,  6.7097e-01, -4.4760e-01,\n",
       "         -1.5599e-01,  2.2176e-01,  3.5842e-01, -3.6176e-02, -2.0456e-01,\n",
       "          5.5435e-01,  1.2026e+00,  1.1743e+00, -1.6199e-01,  5.8180e-01,\n",
       "         -3.0780e-01,  2.9371e-01,  1.2205e+00,  1.9821e+00,  8.3128e-01,\n",
       "         -1.8654e-01, -1.1259e+00,  2.1551e-03, -1.8294e-01,  1.3554e+00,\n",
       "          9.4751e-01,  5.5552e-01,  2.8855e-01,  8.7647e-01, -2.0121e-01,\n",
       "          2.8050e-03, -1.9998e-01,  2.7506e-01,  6.6315e-01,  3.2348e-01,\n",
       "          2.9533e-02,  1.9388e-01,  2.5206e-01, -8.0178e-01, -1.1775e+00,\n",
       "         -1.0283e-01, -4.6327e-01,  1.0351e+00,  1.3906e+00,  9.9330e-01,\n",
       "          1.1308e-01,  6.6668e-01,  5.7104e-01, -1.0474e+00,  8.8637e-01,\n",
       "         -8.9593e-01, -3.7677e-03, -3.5077e-01, -3.2095e-01,  1.1698e+00,\n",
       "         -1.3146e+00,  4.2685e-01,  1.0881e+00,  3.4791e-01,  9.6837e-01,\n",
       "          1.0368e+00,  8.7647e-01,  3.8806e-01,  4.5030e-01,  6.9757e-02,\n",
       "         -8.5725e-01, -7.6319e-01,  7.0285e-01,  2.3398e-01,  1.0195e+00,\n",
       "          1.6102e+00,  1.7735e-01,  1.1955e-01,  1.0621e+00,  6.8002e-01,\n",
       "         -7.9296e-01,  1.7747e-01,  7.7463e-01,  1.4969e+00,  2.7365e-02,\n",
       "         -3.8541e-01, -5.8886e-02, -4.4474e-01,  1.9717e-01,  7.1634e-02,\n",
       "          7.8157e-01,  1.0907e-01, -4.2564e-02, -8.9532e-01,  3.6073e-01,\n",
       "         -5.7924e-01, -4.2029e-01, -5.2522e-01, -1.0083e-02,  1.0743e+00,\n",
       "         -1.0509e+00,  1.2867e+00,  9.6310e-01,  8.0801e-01,  3.8303e-01,\n",
       "          8.0292e-01,  4.1846e-01, -1.7866e+00, -1.0639e+00,  5.2785e-02,\n",
       "         -4.9040e-01,  3.8788e-02,  5.7106e-01,  7.0918e-03, -1.0666e+00,\n",
       "         -4.8824e-01,  1.5103e-01,  3.5404e-01,  9.5549e-01,  7.7745e-01,\n",
       "          9.1802e-02, -1.0384e-01,  8.3159e-01,  1.5313e-01, -1.1802e+00,\n",
       "         -4.9472e-01,  3.9006e-02,  9.0232e-01,  4.0986e-01, -5.9903e-01,\n",
       "          8.5716e-01,  1.2585e-01,  7.4590e-01, -5.9450e-01,  4.2170e-01,\n",
       "         -1.6067e-01, -8.0443e-01,  8.1058e-01,  3.2673e-01,  1.8517e-01,\n",
       "          1.9257e-01, -3.6711e-01,  6.1892e-01,  6.2626e-01,  8.4491e-01,\n",
       "          7.2177e-01, -3.5380e-01,  1.5155e+00,  7.9471e-01,  1.0083e+00,\n",
       "         -5.7285e-01,  5.8801e-01, -5.9791e-01,  7.4652e-01,  1.8068e-01,\n",
       "         -4.2308e-01,  9.4365e-01, -1.4140e-01, -5.2519e-01,  6.6689e-01,\n",
       "          1.8330e+00, -1.3944e-01,  4.6848e-02, -3.9756e-01,  4.9691e-01,\n",
       "          4.1495e-02,  1.1483e+00, -5.7498e-01,  6.6503e-01, -1.2045e-01,\n",
       "          9.4890e-01,  4.7651e-01, -5.0478e-01,  4.4797e-01,  6.0448e-02,\n",
       "          3.4277e-01,  9.0612e-01,  4.0160e-01,  1.6793e+00,  6.2636e-01,\n",
       "          1.0096e+00,  5.5039e-01,  2.7370e-01,  4.5094e-01,  1.6307e-01,\n",
       "         -1.1064e+00,  9.6557e-01, -2.4600e-01, -9.7922e-01,  2.0159e-01,\n",
       "          1.9793e-01,  8.7705e-01,  5.1561e-01,  9.1901e-01, -2.9489e-02,\n",
       "          2.1961e-02,  1.0601e+00,  6.1891e-01,  7.3226e-01,  3.1461e-01,\n",
       "         -1.5824e+00,  8.6608e-01, -1.3186e-01,  1.1033e+00,  6.1152e-01,\n",
       "         -9.2427e-01,  5.9268e-01,  4.0820e-01, -5.7665e-01, -1.2976e+00,\n",
       "          8.0643e-01, -2.3864e-02,  5.5373e-01,  6.9981e-01, -1.1120e-01,\n",
       "          6.0278e-01, -1.6035e-01,  1.6745e-01, -1.0261e-01,  4.4633e-01,\n",
       "         -4.6170e-02, -7.9526e-01, -1.4157e-01, -7.5269e-01,  7.9777e-01,\n",
       "          9.3640e-02,  1.1023e+00,  3.9652e-01, -8.2310e-01, -5.2531e-01,\n",
       "          1.9129e-01, -1.6132e-01, -4.3131e-01,  5.8925e-01,  1.4207e+00,\n",
       "         -5.9560e-01,  1.4006e+00,  9.4296e-01,  8.7465e-01,  5.3329e-03,\n",
       "          5.1278e-01,  5.7010e-01, -3.1483e-01,  4.8717e-01,  5.8690e-01,\n",
       "         -1.3075e+00, -1.5883e-01, -1.1396e+00, -2.9723e-01, -7.9385e-01,\n",
       "         -4.7495e-01,  5.1992e-01,  7.9665e-01,  7.3256e-01, -7.7590e-01,\n",
       "          6.5167e-01,  1.4641e+00,  1.7421e-01, -3.9199e-01,  3.0204e-01,\n",
       "          1.6132e+00, -4.3686e-01, -3.4737e-02,  5.5239e-01,  5.9045e-01,\n",
       "         -2.9874e-01, -4.1180e-01,  3.3311e-01,  7.6227e-01,  2.3622e-01,\n",
       "          7.8572e-01,  8.9358e-01,  1.0617e-01, -4.5546e-01,  2.2920e-01,\n",
       "         -4.9840e-01,  6.0905e-01, -6.4620e-01, -1.0394e-01,  6.6740e-01,\n",
       "          1.4266e-01,  1.3626e-01,  1.2666e+00,  4.1391e-02, -6.6960e-01,\n",
       "          1.1758e+00, -4.7626e-01, -1.2706e-01,  1.1846e+00, -4.5851e-01,\n",
       "          2.4382e-01,  1.7979e+00, -5.3565e-01,  1.6535e+00, -1.5147e+00,\n",
       "          1.0337e-01, -1.0741e-01,  6.2103e-01,  7.9502e-01,  9.9302e-02,\n",
       "          8.1937e-01, -7.0871e-02,  2.7733e-01,  2.5930e-01,  6.9021e-01,\n",
       "          4.9732e-02,  1.8797e-01,  5.5556e-01,  6.1729e-01,  1.4767e+00,\n",
       "          3.9323e-01, -1.3659e-01,  3.0077e-01,  5.8409e-01,  6.2185e-01,\n",
       "         -5.2254e-01,  8.2686e-01, -1.7230e-01,  1.3059e+00, -1.5064e-01,\n",
       "          1.7588e-01,  5.2289e-01,  2.1893e-01,  7.0425e-01,  1.3152e+00,\n",
       "          8.3369e-01,  3.5070e-01,  4.9069e-01, -7.3548e-02,  1.1912e+00,\n",
       "          4.5765e-01,  2.5182e-01,  1.2954e+00,  6.7793e-01,  7.1249e-01,\n",
       "          3.5518e-01,  3.9895e-01,  4.3703e-01,  1.2571e+00, -7.9927e-01,\n",
       "         -8.3929e-01, -7.5291e-01,  8.9569e-01,  6.8284e-01,  1.4431e+00,\n",
       "          2.8852e-01,  5.7462e-01,  9.2911e-01,  1.8536e-01,  2.0982e-02,\n",
       "          4.6707e-01,  9.6321e-01,  1.3988e+00,  7.6699e-01,  1.4018e-01,\n",
       "          1.7323e-01,  8.2722e-01,  5.9042e-01, -6.0720e-01,  4.0315e-01,\n",
       "         -9.3730e-01,  1.7934e-01, -1.0317e+00, -1.0080e+00,  9.1758e-01,\n",
       "          1.2235e+00,  2.5530e-01,  1.4252e-01,  1.0832e+00,  6.0248e-02,\n",
       "         -3.5711e-01,  8.3824e-01, -2.6069e-01,  1.3847e+00, -9.3725e-01,\n",
       "         -2.6542e-01,  2.1072e-01, -1.1947e+00,  1.2340e+00,  1.7039e-01,\n",
       "         -1.3026e+00, -8.5473e-01,  1.7315e-01,  6.6309e-01,  8.8221e-01,\n",
       "         -7.4142e-01,  2.1499e-01,  5.8022e-01,  1.0493e+00, -5.9504e-01,\n",
       "          9.2106e-01,  3.0120e-01, -7.1904e-01, -6.9751e-01,  2.9067e-01,\n",
       "          4.6621e-01,  1.4425e+00,  1.3919e+00,  9.4228e-01, -4.5235e-01,\n",
       "          1.2069e+00,  4.4709e-01,  5.7239e-01,  4.6966e-01,  4.7039e-01,\n",
       "          1.4547e+00,  4.7671e-01, -3.7245e-01,  3.5337e-01,  8.2714e-01,\n",
       "          1.0290e+00,  1.2218e+00,  1.6771e+00, -4.7969e-01, -4.0806e-01,\n",
       "          7.2067e-01, -4.8984e-01, -2.8268e-01, -2.2429e-01,  8.1157e-01,\n",
       "          1.1653e-01,  1.1372e+00,  6.9763e-01, -1.4514e-02, -4.5752e-01,\n",
       "          3.6095e-01,  8.0796e-02, -1.4711e-01,  1.3237e+00, -3.3050e-01,\n",
       "          7.6717e-01, -1.1075e+00,  9.6744e-01, -8.0583e-01, -2.1232e+00,\n",
       "          2.7967e-01,  1.4036e+00, -6.9894e-02, -6.9925e-02,  1.1647e+00,\n",
       "          9.1679e-01, -1.5888e-01,  8.4692e-01,  1.1525e+00, -6.1348e-02,\n",
       "          4.3727e-01, -4.0387e-01, -3.5006e-01, -8.4435e-01,  1.0904e-01,\n",
       "         -1.9962e-01,  8.7100e-02,  6.3309e-01,  2.0280e-01, -6.9638e-01,\n",
       "         -5.4518e-01,  9.1632e-01,  4.5390e-01,  1.8479e+00,  1.7870e+00,\n",
       "         -8.7338e-01, -4.3507e-01,  1.2908e+00,  8.3084e-01,  8.1032e-01,\n",
       "          1.0240e-01, -3.6523e-01,  1.1813e+00, -8.1789e-01,  8.8325e-01,\n",
       "          1.2499e+00,  1.0885e+00,  7.9342e-01, -2.6628e-01, -1.4937e+00,\n",
       "         -5.4975e-01,  1.4755e-01,  3.0080e-01,  4.6379e-01,  2.1903e-01,\n",
       "         -8.2627e-02,  1.1043e+00, -5.6142e-01,  3.5856e-01, -4.2622e-01,\n",
       "         -9.1762e-01, -1.0183e+00, -5.7624e-01, -2.2889e-01,  1.2209e+00,\n",
       "         -2.0870e-01, -2.3731e-02,  2.6762e-01, -1.6151e+00, -5.0096e-02,\n",
       "         -5.9266e-01,  4.0145e-01,  1.3151e-01, -9.6642e-02, -2.9623e-02,\n",
       "         -3.1687e-01, -7.2173e-01, -2.5825e-01,  2.6653e-01, -4.5446e-01,\n",
       "         -7.3964e-01, -1.0481e+00,  1.7397e-01,  7.2666e-01, -4.4330e-01,\n",
       "         -2.1794e-01, -5.4019e-01, -5.2162e-01,  8.2894e-02,  5.1452e-01,\n",
       "         -4.5683e-01, -4.3694e-01, -5.8509e-01, -2.6642e-02, -9.0598e-01,\n",
       "          1.5102e-01,  3.5635e-01, -4.9884e-01, -9.3483e-01, -1.2333e+00,\n",
       "         -3.0500e-01,  4.7213e-01, -3.9440e-01,  7.5017e-01, -3.9021e-02,\n",
       "         -7.1409e-02,  8.8486e-01, -1.6428e-01, -3.5508e-01, -1.4842e+00,\n",
       "          1.0344e+00, -1.2754e+00,  5.5317e-01,  2.3068e-01, -5.5407e-01,\n",
       "         -5.0692e-01,  3.3734e-02,  3.2957e-01, -4.2475e-01, -7.0867e-01,\n",
       "         -1.1803e+00, -2.0937e+00,  1.1737e+00, -1.6318e-01, -1.0263e+00,\n",
       "         -2.5576e-01, -1.0595e+00, -1.1368e+00, -1.7792e+00, -9.3361e-01,\n",
       "         -4.1233e-01,  6.5424e-02, -5.7137e-01,  1.1764e+00,  8.5121e-01]],\n",
       "       grad_fn=<AddmmBackward0>)"
      ]
     },
     "execution_count": 19,
     "metadata": {},
     "output_type": "execute_result"
    }
   ],
   "source": [
    "model(spec)"
   ]
  },
  {
   "cell_type": "code",
   "execution_count": 20,
   "id": "d7cb4e11-1346-4477-b40e-2620ba647891",
   "metadata": {},
   "outputs": [
    {
     "data": {
      "text/plain": [
       "Linear(in_features=512, out_features=1000, bias=True)"
      ]
     },
     "execution_count": 20,
     "metadata": {},
     "output_type": "execute_result"
    }
   ],
   "source": [
    "model.fc"
   ]
  },
  {
   "cell_type": "code",
   "execution_count": 21,
   "id": "90471cd4-a031-48aa-8d73-0a446365a52e",
   "metadata": {},
   "outputs": [],
   "source": [
    "model.fc=nn.Linear(in_features=512,out_features=5,bias=True)"
   ]
  },
  {
   "cell_type": "code",
   "execution_count": 22,
   "id": "6ffd8cca-9b70-4fb9-b784-00b417c8ed75",
   "metadata": {},
   "outputs": [
    {
     "data": {
      "text/plain": [
       "tensor([[-1.0231, -0.3704,  0.3396, -0.4366, -0.0322]],\n",
       "       grad_fn=<AddmmBackward0>)"
      ]
     },
     "execution_count": 22,
     "metadata": {},
     "output_type": "execute_result"
    }
   ],
   "source": [
    "model(spec)"
   ]
  },
  {
   "cell_type": "code",
   "execution_count": null,
   "id": "73933000-a9b9-4e97-858b-86b33094d6b9",
   "metadata": {},
   "outputs": [],
   "source": []
  },
  {
   "cell_type": "code",
   "execution_count": 42,
   "id": "fe2c095a-77ff-4cc6-acc5-4d01dbe60279",
   "metadata": {},
   "outputs": [
    {
     "name": "stdout",
     "output_type": "stream",
     "text": [
      "SNR (dB): 31.962947845458984\n"
     ]
    }
   ],
   "source": [
    "import torch\n",
    "\n",
    "def calculate_snr(original_signal, denoised_signal):\n",
    "    # Ensure the inputs are PyTorch tensors\n",
    "    original_signal = torch.tensor(original_signal, dtype=torch.float32)\n",
    "    denoised_signal = torch.tensor(denoised_signal, dtype=torch.float32)\n",
    "    \n",
    "    # Calculate the noise\n",
    "    noise = original_signal - denoised_signal\n",
    "    \n",
    "    # Calculate power of the signal and the noise\n",
    "    signal_power = torch.mean(original_signal ** 2)\n",
    "    noise_power = torch.mean(noise ** 2)\n",
    "    \n",
    "    # Calculate SNR\n",
    "    snr = signal_power / noise_power\n",
    "    \n",
    "    # Convert SNR to decibels (dB)\n",
    "    snr_db = torch.abs(10 * torch.log10(snr))\n",
    "    \n",
    "    return snr_db\n",
    "\n",
    "# Example usage:\n",
    "# Assuming `clean_audio` and `denoised_audio` are your 1D tensors or arrays representing audio signals\n",
    "\n",
    "# For demonstration, let's assume some dummy clean and denoised signals\n",
    "clean_audio = [1.0, 2.0, 3.0, 4.0, 5.0]\n",
    "denoised_audio = [0.9, 2.1, 2.95, 4.05, 4.9]\n",
    "\n",
    "snr_db = calculate_snr(clean_audio, denoised_audio)\n",
    "print(f\"SNR (dB): {snr_db.item()}\")\n"
   ]
  },
  {
   "cell_type": "code",
   "execution_count": 32,
   "id": "6e68ffae-b217-4ed6-b273-6ab9d7c2b85a",
   "metadata": {},
   "outputs": [],
   "source": [
    "original,sr1=torchaudio.load(\"C:\\\\Users\\\\ksais\\\\Documents\\\\Research\\\\Research Project\\AutoEncoder\\\\Testaudio\\\\41Epochs_old\\\\9__10_07_13_marDeOnza_Espera\\\\5_9__10_07_13_marDeOnza_Espera.wav\")"
   ]
  },
  {
   "cell_type": "code",
   "execution_count": 33,
   "id": "a0c4db8a-bac1-44df-9ddb-676b495ab830",
   "metadata": {},
   "outputs": [],
   "source": [
    "denoised,sr2=torchaudio.load(\"C:\\\\Users\\\\ksais\\\\Documents\\\\Research\\\\Research Project\\AutoEncoder\\\\Testaudio\\\\41Epochs_old\\\\9__10_07_13_marDeOnza_Espera_D\\\\5_9__10_07_13_marDeOnza_Espera.wav\")"
   ]
  },
  {
   "cell_type": "code",
   "execution_count": 34,
   "id": "2df36411-9992-4372-96e4-10877fe2ce03",
   "metadata": {},
   "outputs": [
    {
     "name": "stderr",
     "output_type": "stream",
     "text": [
      "C:\\Users\\ksais\\AppData\\Local\\Temp\\ipykernel_4756\\1964616650.py:5: UserWarning: To copy construct from a tensor, it is recommended to use sourceTensor.clone().detach() or sourceTensor.clone().detach().requires_grad_(True), rather than torch.tensor(sourceTensor).\n",
      "  original_signal = torch.tensor(original_signal, dtype=torch.float32)\n",
      "C:\\Users\\ksais\\AppData\\Local\\Temp\\ipykernel_4756\\1964616650.py:6: UserWarning: To copy construct from a tensor, it is recommended to use sourceTensor.clone().detach() or sourceTensor.clone().detach().requires_grad_(True), rather than torch.tensor(sourceTensor).\n",
      "  denoised_signal = torch.tensor(denoised_signal, dtype=torch.float32)\n"
     ]
    },
    {
     "data": {
      "text/plain": [
       "tensor(23.0820)"
      ]
     },
     "execution_count": 34,
     "metadata": {},
     "output_type": "execute_result"
    }
   ],
   "source": [
    "calculate_snr(original,denoised)"
   ]
  },
  {
   "cell_type": "code",
   "execution_count": 36,
   "id": "5f9de12d-13c7-4bcf-afc9-d9cd1198a98b",
   "metadata": {},
   "outputs": [],
   "source": [
    "noise=original-denoised"
   ]
  },
  {
   "cell_type": "code",
   "execution_count": 43,
   "id": "3ef5ba84-1720-448e-bfcb-bf78f38e1f6b",
   "metadata": {},
   "outputs": [
    {
     "name": "stderr",
     "output_type": "stream",
     "text": [
      "C:\\Users\\ksais\\AppData\\Local\\Temp\\ipykernel_4756\\324505850.py:5: UserWarning: To copy construct from a tensor, it is recommended to use sourceTensor.clone().detach() or sourceTensor.clone().detach().requires_grad_(True), rather than torch.tensor(sourceTensor).\n",
      "  original_signal = torch.tensor(original_signal, dtype=torch.float32)\n",
      "C:\\Users\\ksais\\AppData\\Local\\Temp\\ipykernel_4756\\324505850.py:6: UserWarning: To copy construct from a tensor, it is recommended to use sourceTensor.clone().detach() or sourceTensor.clone().detach().requires_grad_(True), rather than torch.tensor(sourceTensor).\n",
      "  denoised_signal = torch.tensor(denoised_signal, dtype=torch.float32)\n"
     ]
    },
    {
     "data": {
      "text/plain": [
       "tensor(23.0820)"
      ]
     },
     "execution_count": 43,
     "metadata": {},
     "output_type": "execute_result"
    }
   ],
   "source": [
    "calculate_snr(original,denoised)"
   ]
  },
  {
   "cell_type": "code",
   "execution_count": null,
   "id": "a7bc260d-8f48-486f-af61-df7466d30d8a",
   "metadata": {},
   "outputs": [],
   "source": []
  },
  {
   "cell_type": "code",
   "execution_count": 41,
   "id": "beb879dd-064a-47e4-a335-ebdfd0cdb603",
   "metadata": {},
   "outputs": [
    {
     "data": {
      "text/plain": [
       "tensor(-12.3781)"
      ]
     },
     "execution_count": 41,
     "metadata": {},
     "output_type": "execute_result"
    }
   ],
   "source": [
    "10*torch.log10(torch.mean(original)/torch.mean(noise))"
   ]
  },
  {
   "cell_type": "code",
   "execution_count": null,
   "id": "759a9143-d1d0-4827-9a29-985161778019",
   "metadata": {},
   "outputs": [],
   "source": []
  }
 ],
 "metadata": {
  "kernelspec": {
   "display_name": "Python 3.11 (torch)",
   "language": "python",
   "name": "pytorch"
  },
  "language_info": {
   "codemirror_mode": {
    "name": "ipython",
    "version": 3
   },
   "file_extension": ".py",
   "mimetype": "text/x-python",
   "name": "python",
   "nbconvert_exporter": "python",
   "pygments_lexer": "ipython3",
   "version": "3.11.9"
  },
  "widgets": {
   "application/vnd.jupyter.widget-state+json": {
    "state": {},
    "version_major": 2,
    "version_minor": 0
   }
  }
 },
 "nbformat": 4,
 "nbformat_minor": 5
}
